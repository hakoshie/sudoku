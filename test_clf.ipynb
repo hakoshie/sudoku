{
 "cells": [
  {
   "cell_type": "code",
   "execution_count": 62,
   "metadata": {},
   "outputs": [],
   "source": [
    "%reload_ext autoreload\n",
    "%autoreload 2\n",
    "import cv2\n",
    "import numpy as np\n",
    "import matplotlib.pyplot as plt\n",
    "import pandas as pd\n",
    "import os\n",
    "import random\n",
    "import warnings\n",
    "from itertools import product\n",
    "import numpy as np\n",
    "import pandas as pd\n",
    "import seaborn as sns\n",
    "import matplotlib\n",
    "import matplotlib.pyplot as plt\n",
    "from IPython import display\n",
    "from tqdm.notebook import tqdm\n",
    "from sklearn.exceptions import ConvergenceWarning\n",
    "from sklearn import model_selection\n",
    "from sklearn.preprocessing import StandardScaler\n",
    "from sklearn.linear_model import LogisticRegression\n",
    "from sklearn.ensemble import RandomForestClassifier\n",
    "from sklearn.neighbors import KNeighborsClassifier\n",
    "from sklearn.ensemble import AdaBoostClassifier\n",
    "from sklearn.svm import SVC\n",
    "from sklearn.ensemble import VotingClassifier\n",
    "# import recognize as recog\n",
    "import recog_l3 as recog\n",
    "pass_path=1"
   ]
  },
  {
   "cell_type": "code",
   "execution_count": 63,
   "metadata": {},
   "outputs": [],
   "source": [
    "param_search = False\n",
    "# load\n",
    "# file_name=\"ensemble5\"\n",
    "# file_name=\"MLPC_numbers_mix\"\n",
    "file_name=\"ensemble_MLPC\"\n",
    "# file_name=\"Rand_numbers_ln\"\n",
    "# file_name=\"Rand_numbers_ln_m\"\n",
    "# file_name=\"Rand_numbers_ang\"\n",
    "scaler=pd.read_pickle(f'./pickle/{file_name}_scaler.pickle')\n",
    "clf=pd.read_pickle(f'./pickle/{file_name}_clf.pickle')"
   ]
  },
  {
   "cell_type": "code",
   "execution_count": 64,
   "metadata": {},
   "outputs": [
    {
     "name": "stdout",
     "output_type": "stream",
     "text": [
      "sample\n",
      "sudoku_026\n",
      "sudoku_027\n",
      "sudoku_028\n",
      "sudoku_029\n",
      "sudoku_030\n"
     ]
    }
   ],
   "source": [
    "import os\n",
    "# ディレクトリ内のファイルを取得する\n",
    "dir_path = \"./data/level1/\"\n",
    "files = os.listdir(dir_path)\n",
    "# jpgファイルのみを取得する\n",
    "jpg_files = [os.path.splitext(f)[0] for f in files if f.endswith('.jpg')]\n",
    "\n",
    "# ファイル名を表示する\n",
    "for f in jpg_files:\n",
    "    print(f)\n"
   ]
  },
  {
   "cell_type": "code",
   "execution_count": 65,
   "metadata": {},
   "outputs": [
    {
     "name": "stdout",
     "output_type": "stream",
     "text": [
      "sample 1.0000 0.0 failure rate: 0.00\n",
      "sudoku_026 1.0000 0.0 failure rate: 0.00\n",
      "sudoku_027 1.0000 0.0 failure rate: 0.00\n",
      "sudoku_028 1.0000 0.0 failure rate: 0.00\n",
      "sudoku_029 0.9506 4.0 failure rate: 0.10\n",
      "5 3\n",
      "1 3\n",
      "7 9\n",
      "7 9\n",
      "sudoku_030 1.0000 0.0 failure rate: 0.00\n"
     ]
    }
   ],
   "source": [
    "import recognize\n",
    "import cv2\n",
    "import numpy as np\n",
    "for file in jpg_files:\n",
    "        path=f\"./{dir_path}{file}.jpg\"\n",
    "        image=cv2.imread(path)\n",
    "        image=cv2.cvtColor(image,cv2.COLOR_BGR2RGB)\n",
    "        if pass_path==1:\n",
    "            # try:\n",
    "            problem=recog.recognize(path,clf=clf,scaler=scaler)\n",
    "            # except:\n",
    "            #     problem=np.ones((9,9))*-1\n",
    "        else:\n",
    "            problem=recog.recognize(image,clf=clf,scaler=scaler)\n",
    "        # problem=recog.recognize(image)\n",
    "        with open(f'./{dir_path}{file}.txt', 'r') as f:\n",
    "            matrix_data = [[int(num) for num in line.split()] for line in f]\n",
    "        # print matrix data by row\n",
    "        # for row in matrix_data:\n",
    "        #     print(row)\n",
    "        matrix_array = np.array(matrix_data)\n",
    "        try:\n",
    "            validate=[matrix_data[i][j]==problem[i][j] for i in range(9) for j in range(9)]\n",
    "        except Exception as e:\n",
    "            print(e)\n",
    "            problem=np.ones((9,9))*-1\n",
    "            validate=[matrix_data[i][j]==problem[i][j] for i in range(9) for j in range(9)]\n",
    "        proba=sum(validate)/len(validate)\n",
    "        zeros=np.sum(np.array(matrix_data) == 0)\n",
    "        nonzeros=81-zeros\n",
    "        failed=81-proba*81\n",
    "\n",
    "        print(f\"{file}\",\"{:.4f}\".format(proba),failed,f\"failure rate: {failed/nonzeros:.2f}\")\n",
    "        if proba>0.9 and proba<1:\n",
    "            for i in range(9):\n",
    "                for j in range(9):\n",
    "                    if not validate[i*9+j]:\n",
    "                        print(problem[i][j],matrix_data[i][j])\n",
    "        # probas.append(proba)"
   ]
  },
  {
   "cell_type": "markdown",
   "metadata": {},
   "source": [
    "# level2"
   ]
  },
  {
   "cell_type": "code",
   "execution_count": 66,
   "metadata": {},
   "outputs": [
    {
     "name": "stdout",
     "output_type": "stream",
     "text": [
      "sample\n",
      "sudoku_00026\n",
      "sudoku_00027\n",
      "sudoku_00028\n",
      "sudoku_00030\n",
      "sudoku_00031\n"
     ]
    }
   ],
   "source": [
    "# ディレクトリ内のファイルを取得する\n",
    "dir_path = \"./data/level2/\"\n",
    "files = os.listdir(dir_path)\n",
    "# jpgファイルのみを取得する\n",
    "jpg_files = [os.path.splitext(f)[0] for f in files if f.endswith('.jpg')]\n",
    "\n",
    "# ファイル名を表示する\n",
    "for f in jpg_files:\n",
    "    print(f)\n",
    "file=\"sample\""
   ]
  },
  {
   "cell_type": "code",
   "execution_count": 67,
   "metadata": {},
   "outputs": [
    {
     "name": "stdout",
     "output_type": "stream",
     "text": [
      "sample 1.0000 0.0 failure rate: 0.00\n",
      "sudoku_00026 1.0000 0.0 failure rate: 0.00\n",
      "count is not 9\n",
      "sudoku_00027 0.0000 81.0 failure rate: 2.70\n",
      "sudoku_00028 1.0000 0.0 failure rate: 0.00\n",
      "sudoku_00030 1.0000 0.0 failure rate: 0.00\n",
      "sudoku_00031 1.0000 0.0 failure rate: 0.00\n"
     ]
    }
   ],
   "source": [
    "for file in jpg_files:\n",
    "        # pixel=60\n",
    "        path=f\"./{dir_path}{file}.jpg\"\n",
    "        image=cv2.imread(path)\n",
    "        image=cv2.cvtColor(image,cv2.COLOR_BGR2RGB)\n",
    "        # problem=recog.recognize(image,pixel=pixel,clf=clf,scaler=scaler,n_open=2,n_close=1,prior_close=1,trim_percentage=0.008,mean_white_axis=0,arc_epsilon=5e-2,erase_line=0,otsu_times=1.2,clf_f_name=\"SVClinear\")\n",
    "        if pass_path==1:\n",
    "            try:\n",
    "                problem=recog.recognize(path,clf=clf,scaler=scaler,plt_res3=0)\n",
    "            except Exception as e:\n",
    "                print(e)\n",
    "                problem=np.ones((9,9))*-1\n",
    "        else:\n",
    "            problem=recog.recognize(image,clf=clf,scaler=scaler)\n",
    "        with open(f'./{dir_path}{file}.txt', 'r') as f:\n",
    "            matrix_data = [[int(num) for num in line.split()] for line in f]\n",
    "        # print matrix data by row\n",
    "        # for row in matrix_data:\n",
    "        #     print(row)\n",
    "        matrix_array = np.array(matrix_data)\n",
    "        try:\n",
    "            validate=[matrix_data[i][j]==problem[i][j] for i in range(9) for j in range(9)]\n",
    "        except:\n",
    "            problem=np.ones((9,9))*-1\n",
    "            validate=[matrix_data[i][j]==problem[i][j] for i in range(9) for j in range(9)]\n",
    "        proba=sum(validate)/len(validate)\n",
    "        zeros=np.sum(np.array(matrix_data) == 0)\n",
    "        nonzeros=81-zeros\n",
    "        failed=81-proba*81\n",
    "        print(f\"{file}\",\"{:.4f}\".format(proba),failed,f\"failure rate: {failed/nonzeros:.2f}\")\n",
    "        if proba>0.9 and proba<1:\n",
    "            for i in range(9):\n",
    "                for j in range(9):\n",
    "                    if not validate[i*9+j]:\n",
    "                        print(problem[i][j],matrix_data[i][j])\n",
    "        # probas.append(proba)"
   ]
  },
  {
   "cell_type": "code",
   "execution_count": 68,
   "metadata": {},
   "outputs": [
    {
     "name": "stdout",
     "output_type": "stream",
     "text": [
      "sample\n",
      "sudoku_00011\n",
      "sudoku_00012\n",
      "sudoku_00013\n",
      "sudoku_00014\n",
      "sudoku_00015\n"
     ]
    }
   ],
   "source": [
    "\n",
    "# ディレクトリ内のファイルを取得する\n",
    "dir_path = \"./data/level3/\"\n",
    "files = os.listdir(dir_path)\n",
    "# jpgファイルのみを取得する\n",
    "jpg_files = [os.path.splitext(f)[0] for f in files if f.endswith('.jpg')]\n",
    "\n",
    "# ファイル名を表示する\n",
    "for f in jpg_files:\n",
    "    print(f)\n",
    "file=\"sample\""
   ]
  },
  {
   "cell_type": "code",
   "execution_count": 69,
   "metadata": {},
   "outputs": [
    {
     "name": "stdout",
     "output_type": "stream",
     "text": [
      "sample 0.9506 4.0 failure rate: 0.13\n",
      "2 9 index 0 4\n",
      "3 5 index 2 5\n",
      "3 5 index 5 4\n",
      "3 9 index 6 3\n",
      "sudoku_00011 1.0000 0.0 failure rate: 0.00\n",
      "sudoku_00012 0.9630 3.0 failure rate: 0.12\n",
      "3 0 index 2 2\n",
      "8 4 index 3 0\n",
      "5 8 index 3 1\n",
      "sudoku_00013 1.0000 0.0 failure rate: 0.00\n",
      "sudoku_00014 1.0000 0.0 failure rate: 0.00\n",
      "sudoku_00015 0.9753 2.0 failure rate: 0.08\n",
      "9 2 index 2 8\n",
      "4 0 index 3 8\n"
     ]
    }
   ],
   "source": [
    "for file in jpg_files:\n",
    "        # pixel=60\n",
    "        path=f\"./{dir_path}{file}.jpg\"\n",
    "        image=cv2.imread(path)\n",
    "        image=cv2.cvtColor(image,cv2.COLOR_BGR2RGB)\n",
    "        # problem=recog.recognize(image,pixel=pixel,clf=clf,scaler=scaler,n_open=2,n_close=1,prior_close=1,trim_percentage=0.008,mean_white_axis=0,arc_epsilon=5e-2,erase_line=0,otsu_times=1.2,clf_f_name=\"SVClinear\")\n",
    "        if pass_path==1:\n",
    "            try:\n",
    "                problem=recog.recognize(path,clf=clf,scaler=scaler)\n",
    "            except:\n",
    "                problem=np.ones((9,9))*-1\n",
    "        else:\n",
    "            problem=recog.recognize(image,clf=clf,scaler=scaler)\n",
    "        with open(f'./{dir_path}{file}.txt', 'r') as f:\n",
    "            matrix_data = [[int(num) for num in line.split()] for line in f]\n",
    "        # print matrix data by row\n",
    "        # for row in matrix_data:\n",
    "        #     print(row)\n",
    "        matrix_array = np.array(matrix_data)\n",
    "        try:\n",
    "            validate=[matrix_data[i][j]==problem[i][j] for i in range(9) for j in range(9)]\n",
    "        except:\n",
    "            problem=np.ones((9,9))*-1\n",
    "            validate=[matrix_data[i][j]==problem[i][j] for i in range(9) for j in range(9)]\n",
    "        proba=sum(validate)/len(validate)\n",
    "        zeros=np.sum(np.array(matrix_data) == 0)\n",
    "        nonzeros=81-zeros\n",
    "        failed=81-proba*81\n",
    "        print(f\"{file}\",\"{:.4f}\".format(proba),failed,f\"failure rate: {failed/nonzeros:.2f}\")\n",
    "        if proba>0.9 and proba<1:\n",
    "            for i in range(9):\n",
    "                for j in range(9):\n",
    "                    if not validate[i*9+j]:\n",
    "                        print(int(problem[i][j]),matrix_data[i][j],\"index\",i,j)\n",
    "        # probas.append(proba)"
   ]
  },
  {
   "cell_type": "code",
   "execution_count": 70,
   "metadata": {},
   "outputs": [
    {
     "ename": "SystemExit",
     "evalue": "",
     "output_type": "error",
     "traceback": [
      "An exception has occurred, use %tb to see the full traceback.\n",
      "\u001b[1;31mSystemExit\u001b[0m\n"
     ]
    },
    {
     "name": "stderr",
     "output_type": "stream",
     "text": [
      "c:\\Users\\hakos\\miniconda3\\envs\\advml\\Lib\\site-packages\\IPython\\core\\interactiveshell.py:3534: UserWarning: To exit: use 'exit', 'quit', or Ctrl-D.\n",
      "  warn(\"To exit: use 'exit', 'quit', or Ctrl-D.\", stacklevel=1)\n"
     ]
    }
   ],
   "source": [
    "##################################\n",
    "## search param\n",
    "##################################\n",
    "# import recog_l2\n",
    "import sys\n",
    "# import cv2\n",
    "if not(param_search):\n",
    "    sys.exit()\n",
    "param_list=[1,3,5,7,9]\n",
    "\n",
    "for param in param_list:\n",
    "    probas=[]\n",
    "    for file in jpg_files:\n",
    "        # pixel=60\n",
    "        problem=recog_l2.recognize(path=f\"./{dir_path}{file}.jpg\",clf=clf,scaler=scaler,otsu_times=1.22,sigmaSpace=param,n_close=1,n_open=2,prior_close=1,trim_percentage=0.008,mean_white_axis=0,arc_epsilon=5e-2,erase_line=0,pixel=20)\n",
    "        with open(f'./{dir_path}{file}.txt', 'r') as f:\n",
    "            matrix_data = [[int(num) for num in line.split()] for line in f]\n",
    "        # print matrix data by row\n",
    "        # for row in matrix_data:\n",
    "        #     print(row)\n",
    "        # convert the matrix data into a numpy array\n",
    "        matrix_array = np.array(matrix_data)\n",
    "        validate=[matrix_data[i][j]==problem[i][j] for i in range(9) for j in range(9)]\n",
    "        proba=sum(validate)/len(validate)\n",
    "        zeros=np.sum(np.array(matrix_data) == 0)\n",
    "        nonzeros=81-zeros\n",
    "        failed=81-proba*81\n",
    "        # print(f\"{file}\",\"{:.4f}\".format(proba),failed,f\"failure rate: {failed/nonzeros:.2f}\")\n",
    "        probas.append(proba)\n",
    "    print(\"param\",param,\"average proba:\",\"{:.4f}\".format(sum(probas)/len(probas)))"
   ]
  },
  {
   "cell_type": "code",
   "execution_count": null,
   "metadata": {},
   "outputs": [
    {
     "name": "stdout",
     "output_type": "stream",
     "text": [
      "n_close 0 n_open 0 average proba: 0.6626\n",
      "n_close 0 n_open 1 average proba: 0.6646\n",
      "n_close 0 n_open 2 average proba: 0.6667\n",
      "n_close 0 n_open 3 average proba: 0.6646\n",
      "n_close 1 n_open 0 average proba: 0.6626\n",
      "n_close 1 n_open 1 average proba: 0.6646\n"
     ]
    },
    {
     "ename": "KeyboardInterrupt",
     "evalue": "",
     "output_type": "error",
     "traceback": [
      "\u001b[1;31m---------------------------------------------------------------------------\u001b[0m",
      "\u001b[1;31mKeyboardInterrupt\u001b[0m                         Traceback (most recent call last)",
      "\u001b[1;32mc:\\Users\\hakos\\Downloads\\advml\\sudoku-solver-hakoshie\\test_clf.ipynb セル 9\u001b[0m line \u001b[0;36m1\n\u001b[0;32m      <a href='vscode-notebook-cell:/c%3A/Users/hakos/Downloads/advml/sudoku-solver-hakoshie/test_clf.ipynb#X11sZmlsZQ%3D%3D?line=7'>8</a>\u001b[0m probas\u001b[39m=\u001b[39m[]\n\u001b[0;32m      <a href='vscode-notebook-cell:/c%3A/Users/hakos/Downloads/advml/sudoku-solver-hakoshie/test_clf.ipynb#X11sZmlsZQ%3D%3D?line=8'>9</a>\u001b[0m \u001b[39mfor\u001b[39;00m file \u001b[39min\u001b[39;00m jpg_files:\n\u001b[0;32m     <a href='vscode-notebook-cell:/c%3A/Users/hakos/Downloads/advml/sudoku-solver-hakoshie/test_clf.ipynb#X11sZmlsZQ%3D%3D?line=9'>10</a>\u001b[0m     \u001b[39m# pixel=60\u001b[39;00m\n\u001b[1;32m---> <a href='vscode-notebook-cell:/c%3A/Users/hakos/Downloads/advml/sudoku-solver-hakoshie/test_clf.ipynb#X11sZmlsZQ%3D%3D?line=10'>11</a>\u001b[0m     problem\u001b[39m=\u001b[39mrecog_l2\u001b[39m.\u001b[39mrecognize(path\u001b[39m=\u001b[39m\u001b[39mf\u001b[39m\u001b[39m\"\u001b[39m\u001b[39m./\u001b[39m\u001b[39m{\u001b[39;00mdir_path\u001b[39m}\u001b[39;00m\u001b[39m{\u001b[39;00mfile\u001b[39m}\u001b[39;00m\u001b[39m.jpg\u001b[39m\u001b[39m\"\u001b[39m,clf\u001b[39m=\u001b[39mclf,scaler\u001b[39m=\u001b[39mscaler,n_close\u001b[39m=\u001b[39mi,n_open\u001b[39m=\u001b[39mj,prior_close\u001b[39m=\u001b[39m\u001b[39m1\u001b[39m,trim_percentage\u001b[39m=\u001b[39m\u001b[39m0.008\u001b[39m,mean_white_axis\u001b[39m=\u001b[39m\u001b[39m0\u001b[39m,arc_epsilon\u001b[39m=\u001b[39m\u001b[39m5e-2\u001b[39m,erase_line\u001b[39m=\u001b[39m\u001b[39m0\u001b[39m,pixel\u001b[39m=\u001b[39m\u001b[39m20\u001b[39m,pixel_f\u001b[39m=\u001b[39m\u001b[39m100\u001b[39m)\n\u001b[0;32m     <a href='vscode-notebook-cell:/c%3A/Users/hakos/Downloads/advml/sudoku-solver-hakoshie/test_clf.ipynb#X11sZmlsZQ%3D%3D?line=11'>12</a>\u001b[0m     \u001b[39mwith\u001b[39;00m \u001b[39mopen\u001b[39m(\u001b[39mf\u001b[39m\u001b[39m'\u001b[39m\u001b[39m./\u001b[39m\u001b[39m{\u001b[39;00mdir_path\u001b[39m}\u001b[39;00m\u001b[39m{\u001b[39;00mfile\u001b[39m}\u001b[39;00m\u001b[39m.txt\u001b[39m\u001b[39m'\u001b[39m, \u001b[39m'\u001b[39m\u001b[39mr\u001b[39m\u001b[39m'\u001b[39m) \u001b[39mas\u001b[39;00m f:\n\u001b[0;32m     <a href='vscode-notebook-cell:/c%3A/Users/hakos/Downloads/advml/sudoku-solver-hakoshie/test_clf.ipynb#X11sZmlsZQ%3D%3D?line=12'>13</a>\u001b[0m         matrix_data \u001b[39m=\u001b[39m [[\u001b[39mint\u001b[39m(num) \u001b[39mfor\u001b[39;00m num \u001b[39min\u001b[39;00m line\u001b[39m.\u001b[39msplit()] \u001b[39mfor\u001b[39;00m line \u001b[39min\u001b[39;00m f]\n",
      "File \u001b[1;32mc:\\Users\\hakos\\Downloads\\advml\\sudoku-solver-hakoshie\\recog_l2.py:35\u001b[0m, in \u001b[0;36mrecognize\u001b[1;34m(path, clf, scaler, pixel, ret_img, n_open, n_close, prior_close, trim_percentage, mean_white_axis, arc_epsilon, erase_line, white_thres, otsu_times, clf_f_name, clf_f, scaler_f, sigmaColor, sigmaSpace, pixel_f)\u001b[0m\n\u001b[0;32m     31\u001b[0m gray \u001b[39m=\u001b[39m cv2\u001b[39m.\u001b[39mcvtColor(image, cv2\u001b[39m.\u001b[39mCOLOR_RGB2GRAY)\n\u001b[0;32m     32\u001b[0m \u001b[39m# print(image.shape)\u001b[39;00m\n\u001b[0;32m     33\u001b[0m \u001b[39m# ぼかし処理\u001b[39;00m\n\u001b[0;32m     34\u001b[0m \u001b[39m# gray_gb = cv2.GaussianBlur(gray, None, 3.0)\u001b[39;00m\n\u001b[1;32m---> 35\u001b[0m gray_gb\u001b[39m=\u001b[39m cv2\u001b[39m.\u001b[39mbilateralFilter(gray, \u001b[39m11\u001b[39m, sigmaColor, sigmaSpace)\n\u001b[0;32m     36\u001b[0m \u001b[39m##########################\u001b[39;00m\n\u001b[0;32m     37\u001b[0m \u001b[39m## エッジ検出、輪郭抽出\u001b[39;00m\n\u001b[0;32m     38\u001b[0m \u001b[39m############################\u001b[39;00m\n\u001b[0;32m     39\u001b[0m thr, binary \u001b[39m=\u001b[39m cv2\u001b[39m.\u001b[39mthreshold(gray_gb, \u001b[39m0\u001b[39m, \u001b[39m255\u001b[39m, cv2\u001b[39m.\u001b[39mTHRESH_OTSU)\n",
      "\u001b[1;31mKeyboardInterrupt\u001b[0m: "
     ]
    }
   ],
   "source": [
    "##################################\n",
    "## search n_close and n_open\n",
    "##################################\n",
    "import recog_l2\n",
    "# import cv2\n",
    "for i in range(4):\n",
    "    for j in range(4):\n",
    "        probas=[]\n",
    "        for file in jpg_files:\n",
    "            # pixel=60\n",
    "            problem=recog_l2.recognize(path=f\"./{dir_path}{file}.jpg\",clf=clf,scaler=scaler,n_close=i,n_open=j,prior_close=1,trim_percentage=0.008,mean_white_axis=0,arc_epsilon=5e-2,erase_line=0,pixel=20,pixel_f=100)\n",
    "            with open(f'./{dir_path}{file}.txt', 'r') as f:\n",
    "                matrix_data = [[int(num) for num in line.split()] for line in f]\n",
    "            # print matrix data by row\n",
    "            # for row in matrix_data:\n",
    "            #     print(row)\n",
    "            # convert the matrix data into a numpy array\n",
    "            matrix_array = np.array(matrix_data)\n",
    "            validate=[matrix_data[i][j]==problem[i][j] for i in range(9) for j in range(9)]\n",
    "            proba=sum(validate)/len(validate)\n",
    "            zeros=np.sum(np.array(matrix_data) == 0)\n",
    "            nonzeros=81-zeros\n",
    "            failed=81-proba*81\n",
    "            # print(f\"{file}\",\"{:.4f}\".format(proba),failed,f\"failure rate: {failed/nonzeros:.2f}\")\n",
    "            probas.append(proba)\n",
    "        print(\"n_close\",i,\"n_open\",j,\"average proba:\",\"{:.4f}\".format(sum(probas)/len(probas)))"
   ]
  },
  {
   "cell_type": "code",
   "execution_count": null,
   "metadata": {},
   "outputs": [
    {
     "name": "stdout",
     "output_type": "stream",
     "text": [
      "n_close 0 n_open 0 average proba: 0.9588\n",
      "n_close 0 n_open 1 average proba: 0.9691\n",
      "n_close 0 n_open 2 average proba: 0.9630\n",
      "n_close 0 n_open 3 average proba: 0.9671\n",
      "n_close 1 n_open 0 average proba: 0.9691\n",
      "n_close 1 n_open 1 average proba: 0.9650\n",
      "n_close 1 n_open 2 average proba: 0.9650\n",
      "n_close 1 n_open 3 average proba: 0.9691\n",
      "n_close 2 n_open 0 average proba: 0.9383\n",
      "n_close 2 n_open 1 average proba: 0.9383\n",
      "n_close 2 n_open 2 average proba: 0.9568\n",
      "n_close 2 n_open 3 average proba: 0.9568\n",
      "n_close 3 n_open 0 average proba: 0.9115\n",
      "n_close 3 n_open 1 average proba: 0.9198\n",
      "n_close 3 n_open 2 average proba: 0.9115\n",
      "n_close 3 n_open 3 average proba: 0.9362\n"
     ]
    }
   ],
   "source": [
    "for i in range(4):\n",
    "    for j in range(4):\n",
    "        probas=[]\n",
    "        for file in jpg_files:\n",
    "            # pixel=60\n",
    "            problem=recog_l2.recognize(path=f\"./{dir_path}{file}.jpg\",n_close=i,n_open=j,prior_close=60\n",
    "            with open(f'./{dir_path}{file}.txt', 'r') as f:\n",
    "                matrix_data = [[int(num) for num in line.split()] for line in f]\n",
    "            # print matrix data by row\n",
    "            # for row in matrix_data:\n",
    "            #     print(row)\n",
    "            # convert the matrix data into a numpy array\n",
    "            matrix_array = np.array(matrix_data)\n",
    "            validate=[matrix_data[i][j]==problem[i][j] for i in range(9) for j in range(9)]\n",
    "            proba=sum(validate)/len(validate)\n",
    "            zeros=np.sum(np.array(matrix_data) == 0)\n",
    "            nonzeros=81-zeros\n",
    "            failed=81-proba*81\n",
    "            # print(f\"{file}\",\"{:.4f}\".format(proba),failed,f\"failure rate: {failed/nonzeros:.2f}\")\n",
    "            probas.append(proba)\n",
    "        print(\"n_close\",i,\"n_open\",j,\"average proba:\",\"{:.4f}\".format(sum(probas)/len(probas)))"
   ]
  },
  {
   "cell_type": "code",
   "execution_count": null,
   "metadata": {},
   "outputs": [],
   "source": [
    "# with open(f'./data/{file}.txt', 'r') as f:\n",
    "#     matrix_data = [[int(num) for num in line.split()] for line in f]\n",
    "# # print matrix data by row\n",
    "# for row in matrix_data:\n",
    "#     print(row)\n",
    "# # convert the matrix data into a numpy array\n",
    "# matrix_array = np.array(matrix_data)\n",
    "# validate=[matrix_data[i][j]==problem[i][j] for i in range(9) for j in range(9)]\n",
    "# proba=sum(validate)/len(validate)\n",
    "# zeros=np.sum(np.array(matrix_data) == 0)\n",
    "# nonzeros=81-zeros\n",
    "# failed=81-proba*81\n",
    "# print(proba,failed,f\"failure rate: {failed/nonzeros:.2f}\")"
   ]
  }
 ],
 "metadata": {
  "kernelspec": {
   "display_name": "advml",
   "language": "python",
   "name": "python3"
  },
  "language_info": {
   "codemirror_mode": {
    "name": "ipython",
    "version": 3
   },
   "file_extension": ".py",
   "mimetype": "text/x-python",
   "name": "python",
   "nbconvert_exporter": "python",
   "pygments_lexer": "ipython3",
   "version": "3.11.5"
  }
 },
 "nbformat": 4,
 "nbformat_minor": 2
}
