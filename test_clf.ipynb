{
 "cells": [
  {
   "cell_type": "code",
   "execution_count": 39,
   "metadata": {},
   "outputs": [],
   "source": [
    "%reload_ext autoreload\n",
    "%autoreload 2\n",
    "import cv2\n",
    "import numpy as np\n",
    "import matplotlib.pyplot as plt\n",
    "import pandas as pd\n",
    "import os\n",
    "import random\n",
    "import warnings\n",
    "from itertools import product\n",
    "import numpy as np\n",
    "import pandas as pd\n",
    "import seaborn as sns\n",
    "import matplotlib\n",
    "import matplotlib.pyplot as plt\n",
    "from IPython import display\n",
    "from tqdm.notebook import tqdm\n",
    "from sklearn.exceptions import ConvergenceWarning\n",
    "from sklearn import model_selection\n",
    "from sklearn.preprocessing import StandardScaler\n",
    "from sklearn.linear_model import LogisticRegression\n",
    "from sklearn.ensemble import RandomForestClassifier\n",
    "from sklearn.neighbors import KNeighborsClassifier\n",
    "from sklearn.ensemble import AdaBoostClassifier\n",
    "from sklearn.svm import SVC\n",
    "from sklearn.ensemble import VotingClassifier"
   ]
  },
  {
   "cell_type": "code",
   "execution_count": 40,
   "metadata": {},
   "outputs": [],
   "source": [
    "param_search = False\n",
    "# load\n",
    "# file_name=\"ensemble5\"\n",
    "file_name=\"MLPC_numbers_mix\"\n",
    "# file_name=\"Rand_numbers_ln\"\n",
    "# file_name=\"Rand_numbers_ln_m\"\n",
    "# file_name=\"Rand_numbers_ang\"\n",
    "scaler=pd.read_pickle(f'./pickle/{file_name}_scaler.pickle')\n",
    "clf=pd.read_pickle(f'./pickle/{file_name}_clf.pickle')\n",
    "# scaler = pd.read_pickle('./pickle/ensemble3_scaler.pickle')\n",
    "# clf=pd.read_pickle('./pickle/ensemble3_clf.pickle')\n",
    "# scaler = pd.read_pickle('./pickle/Rand_numbers_ang_scaler.pickle')\n",
    "# clf = pd.read_pickle('./pickle/Rand_numbers_ang_clf.pickle')\n",
    "# clf=pd.read_pickle('./pickle/ensemble3_clf.pickle')\n",
    "# scaler = pd.read_pickle('./pickle/ensemble_rf_line_3_scaler.pickle')\n",
    "# clf=pd.read_pickle('./pickle/ensemble_rf_line_3_clf.pickle')\n",
    "# clf2=pd.read_pickle('./pickle/rf_clf.pickle')\n",
    "# clf_vote=VotingClassifier(estimators=[('rf_l3', clf), ('rf', clf2)], voting='soft')"
   ]
  },
  {
   "cell_type": "code",
   "execution_count": 41,
   "metadata": {},
   "outputs": [
    {
     "name": "stdout",
     "output_type": "stream",
     "text": [
      "sample\n",
      "sudoku_026\n",
      "sudoku_027\n",
      "sudoku_028\n",
      "sudoku_029\n",
      "sudoku_030\n"
     ]
    }
   ],
   "source": [
    "import recog_l2\n",
    "# ディレクトリ内のファイルを取得する\n",
    "dir_path = \"./data/level1/\"\n",
    "files = os.listdir(dir_path)\n",
    "# jpgファイルのみを取得する\n",
    "jpg_files = [os.path.splitext(f)[0] for f in files if f.endswith('.jpg')]\n",
    "\n",
    "# ファイル名を表示する\n",
    "for f in jpg_files:\n",
    "    print(f)\n",
    "# jpg_files\n",
    "pixel=60\n",
    "file=\"sample\"\n",
    "problem=recog_l2.recognize(path=f\"./{dir_path}{file}.jpg\",arc_epsilon=5e-2)\n",
    "img=recog_l2.recognize(path=f\"./{dir_path}{file}.jpg\",arc_epsilon=5e-2,ret_img=1,erase_line=0)\n",
    "# plt.imshow(img)\n",
    "# problem"
   ]
  },
  {
   "cell_type": "code",
   "execution_count": 42,
   "metadata": {},
   "outputs": [
    {
     "name": "stdout",
     "output_type": "stream",
     "text": [
      "sample 1.0000 0.0 failure rate: 0.00\n",
      "sudoku_026 1.0000 0.0 failure rate: 0.00\n",
      "sudoku_027 1.0000 0.0 failure rate: 0.00\n",
      "sudoku_028 1.0000 0.0 failure rate: 0.00\n",
      "sudoku_029 0.9877 1.0 failure rate: 0.02\n",
      "sudoku_030 1.0000 0.0 failure rate: 0.00\n"
     ]
    }
   ],
   "source": [
    "for file in jpg_files:\n",
    "        # pixel=60\n",
    "        problem=recog_l2.recognize(path=f\"./{dir_path}{file}.jpg\",clf=clf,scaler=scaler,n_close=0,n_open=3,prior_close=1,trim_percentage=0.008,mean_white_axis=0,arc_epsilon=5e-2,erase_line=0,otsu_times=1.22,pixel=20)\n",
    "        with open(f'./{dir_path}{file}.txt', 'r') as f:\n",
    "            matrix_data = [[int(num) for num in line.split()] for line in f]\n",
    "        # print matrix data by row\n",
    "        # for row in matrix_data:\n",
    "        #     print(row)\n",
    "        matrix_array = np.array(matrix_data)\n",
    "        validate=[matrix_data[i][j]==problem[i][j] for i in range(9) for j in range(9)]\n",
    "        proba=sum(validate)/len(validate)\n",
    "        zeros=np.sum(np.array(matrix_data) == 0)\n",
    "        nonzeros=81-zeros\n",
    "        failed=81-proba*81\n",
    "        print(f\"{file}\",\"{:.4f}\".format(proba),failed,f\"failure rate: {failed/nonzeros:.2f}\")\n",
    "        # probas.append(proba)"
   ]
  },
  {
   "cell_type": "markdown",
   "metadata": {},
   "source": [
    "# level2"
   ]
  },
  {
   "cell_type": "code",
   "execution_count": 43,
   "metadata": {},
   "outputs": [
    {
     "name": "stdout",
     "output_type": "stream",
     "text": [
      "sample\n",
      "sudoku_00026\n",
      "sudoku_00027\n",
      "sudoku_00028\n",
      "sudoku_00030\n",
      "sudoku_00031\n"
     ]
    }
   ],
   "source": [
    "import recog_l2\n",
    "# ディレクトリ内のファイルを取得する\n",
    "dir_path = \"./data/level2/\"\n",
    "files = os.listdir(dir_path)\n",
    "# jpgファイルのみを取得する\n",
    "jpg_files = [os.path.splitext(f)[0] for f in files if f.endswith('.jpg')]\n",
    "\n",
    "# ファイル名を表示する\n",
    "for f in jpg_files:\n",
    "    print(f)\n",
    "# jpg_files\n",
    "pixel=60\n",
    "file=\"sample\"\n",
    "problem=recog_l2.recognize(path=f\"./{dir_path}{file}.jpg\",arc_epsilon=5e-2)\n",
    "img=recog_l2.recognize(path=f\"./{dir_path}{file}.jpg\",arc_epsilon=5e-2,ret_img=1,erase_line=0)\n",
    "# plt.imshow(img)\n",
    "# problem"
   ]
  },
  {
   "cell_type": "code",
   "execution_count": 44,
   "metadata": {},
   "outputs": [
    {
     "name": "stdout",
     "output_type": "stream",
     "text": [
      "sample 1.0000 0.0 failure rate: 0.00\n",
      "sudoku_00026 1.0000 0.0 failure rate: 0.00\n",
      "sudoku_00027 0.9753 2.0 failure rate: 0.07\n",
      "sudoku_00028 1.0000 0.0 failure rate: 0.00\n",
      "sudoku_00030 1.0000 0.0 failure rate: 0.00\n",
      "sudoku_00031 0.9877 1.0 failure rate: 0.04\n"
     ]
    }
   ],
   "source": [
    "for file in jpg_files:\n",
    "        # pixel=60\n",
    "        # problem=recog_l2.recognize(path=f\"./{dir_path}{file}.jpg\",clf=clf,scaler=scaler,n_close=0,n_open=3,prior_close=1,trim_percentage=0.008,mean_white_axis=0,arc_epsilon=5e-2,erase_line=0)\n",
    "        problem=recog_l2.recognize(path=f\"./{dir_path}{file}.jpg\",clf=clf,scaler=scaler,n_close=0,n_open=3,prior_close=1,trim_percentage=0.008,mean_white_axis=0,arc_epsilon=5e-2,erase_line=0,otsu_times=1.22,pixel=20)\n",
    "        with open(f'./{dir_path}{file}.txt', 'r') as f:\n",
    "            matrix_data = [[int(num) for num in line.split()] for line in f]\n",
    "        # print matrix data by row\n",
    "        # for row in matrix_data:\n",
    "        #     print(row)\n",
    "        matrix_array = np.array(matrix_data)\n",
    "        validate=[matrix_data[i][j]==problem[i][j] for i in range(9) for j in range(9)]\n",
    "        proba=sum(validate)/len(validate)\n",
    "        zeros=np.sum(np.array(matrix_data) == 0)\n",
    "        nonzeros=81-zeros\n",
    "        failed=81-proba*81\n",
    "        print(f\"{file}\",\"{:.4f}\".format(proba),failed,f\"failure rate: {failed/nonzeros:.2f}\")\n",
    "        # probas.append(proba)"
   ]
  },
  {
   "cell_type": "code",
   "execution_count": 38,
   "metadata": {},
   "outputs": [
    {
     "name": "stdout",
     "output_type": "stream",
     "text": [
      "param 1 average proba: 0.8868\n",
      "param 3 average proba: 0.8868\n",
      "param 5 average proba: 0.8868\n",
      "param 7 average proba: 0.8868\n"
     ]
    },
    {
     "ename": "KeyboardInterrupt",
     "evalue": "",
     "output_type": "error",
     "traceback": [
      "\u001b[1;31m---------------------------------------------------------------------------\u001b[0m",
      "\u001b[1;31mAttributeError\u001b[0m                            Traceback (most recent call last)",
      "File \u001b[1;32mc:\\Users\\hakos\\Downloads\\advml\\sudoku-solver-hakoshie\\recog_l2.py:236\u001b[0m, in \u001b[0;36mrecognize\u001b[1;34m(path, clf, scaler, pixel, ret_img, n_open, n_close, prior_close, trim_percentage, mean_white_axis, arc_epsilon, erase_line, white_thres, otsu_times, clf_f_name, clf_f, scaler_f, sigmaColor, sigmaSpace, pixel_f)\u001b[0m\n\u001b[0;32m    235\u001b[0m \u001b[39mtry\u001b[39;00m:\n\u001b[1;32m--> 236\u001b[0m     prob\u001b[39m=\u001b[39mclf_f\u001b[39m.\u001b[39mpredict_proba(res_gr)\n\u001b[0;32m    237\u001b[0m \u001b[39m# print(prob)\u001b[39;00m\n",
      "File \u001b[1;32mc:\\Users\\hakos\\miniconda3\\envs\\advml\\Lib\\site-packages\\sklearn\\utils\\_available_if.py:32\u001b[0m, in \u001b[0;36m_AvailableIfDescriptor.__get__\u001b[1;34m(self, obj, owner)\u001b[0m\n\u001b[0;32m     29\u001b[0m \u001b[39mif\u001b[39;00m obj \u001b[39mis\u001b[39;00m \u001b[39mnot\u001b[39;00m \u001b[39mNone\u001b[39;00m:\n\u001b[0;32m     30\u001b[0m     \u001b[39m# delegate only on instances, not the classes.\u001b[39;00m\n\u001b[0;32m     31\u001b[0m     \u001b[39m# this is to allow access to the docstrings.\u001b[39;00m\n\u001b[1;32m---> 32\u001b[0m     \u001b[39mif\u001b[39;00m \u001b[39mnot\u001b[39;00m \u001b[39mself\u001b[39m\u001b[39m.\u001b[39mcheck(obj):\n\u001b[0;32m     33\u001b[0m         \u001b[39mraise\u001b[39;00m attr_err\n",
      "File \u001b[1;32mc:\\Users\\hakos\\miniconda3\\envs\\advml\\Lib\\site-packages\\sklearn\\svm\\_base.py:829\u001b[0m, in \u001b[0;36mBaseSVC._check_proba\u001b[1;34m(self)\u001b[0m\n\u001b[0;32m    828\u001b[0m \u001b[39mif\u001b[39;00m \u001b[39mnot\u001b[39;00m \u001b[39mself\u001b[39m\u001b[39m.\u001b[39mprobability:\n\u001b[1;32m--> 829\u001b[0m     \u001b[39mraise\u001b[39;00m \u001b[39mAttributeError\u001b[39;00m(\n\u001b[0;32m    830\u001b[0m         \u001b[39m\"\u001b[39m\u001b[39mpredict_proba is not available when  probability=False\u001b[39m\u001b[39m\"\u001b[39m\n\u001b[0;32m    831\u001b[0m     )\n\u001b[0;32m    832\u001b[0m \u001b[39mif\u001b[39;00m \u001b[39mself\u001b[39m\u001b[39m.\u001b[39m_impl \u001b[39mnot\u001b[39;00m \u001b[39min\u001b[39;00m (\u001b[39m\"\u001b[39m\u001b[39mc_svc\u001b[39m\u001b[39m\"\u001b[39m, \u001b[39m\"\u001b[39m\u001b[39mnu_svc\u001b[39m\u001b[39m\"\u001b[39m):\n",
      "\u001b[1;31mAttributeError\u001b[0m: predict_proba is not available when  probability=False",
      "\nDuring handling of the above exception, another exception occurred:\n",
      "\u001b[1;31mKeyboardInterrupt\u001b[0m                         Traceback (most recent call last)",
      "\u001b[1;32mc:\\Users\\hakos\\Downloads\\advml\\sudoku-solver-hakoshie\\test_clf.ipynb セル 8\u001b[0m line \u001b[0;36m1\n\u001b[0;32m     <a href='vscode-notebook-cell:/c%3A/Users/hakos/Downloads/advml/sudoku-solver-hakoshie/test_clf.ipynb#X35sZmlsZQ%3D%3D?line=11'>12</a>\u001b[0m probas\u001b[39m=\u001b[39m[]\n\u001b[0;32m     <a href='vscode-notebook-cell:/c%3A/Users/hakos/Downloads/advml/sudoku-solver-hakoshie/test_clf.ipynb#X35sZmlsZQ%3D%3D?line=12'>13</a>\u001b[0m \u001b[39mfor\u001b[39;00m file \u001b[39min\u001b[39;00m jpg_files:\n\u001b[0;32m     <a href='vscode-notebook-cell:/c%3A/Users/hakos/Downloads/advml/sudoku-solver-hakoshie/test_clf.ipynb#X35sZmlsZQ%3D%3D?line=13'>14</a>\u001b[0m     \u001b[39m# pixel=60\u001b[39;00m\n\u001b[1;32m---> <a href='vscode-notebook-cell:/c%3A/Users/hakos/Downloads/advml/sudoku-solver-hakoshie/test_clf.ipynb#X35sZmlsZQ%3D%3D?line=14'>15</a>\u001b[0m     problem\u001b[39m=\u001b[39mrecog_l2\u001b[39m.\u001b[39mrecognize(path\u001b[39m=\u001b[39m\u001b[39mf\u001b[39m\u001b[39m\"\u001b[39m\u001b[39m./\u001b[39m\u001b[39m{\u001b[39;00mdir_path\u001b[39m}\u001b[39;00m\u001b[39m{\u001b[39;00mfile\u001b[39m}\u001b[39;00m\u001b[39m.jpg\u001b[39m\u001b[39m\"\u001b[39m,clf\u001b[39m=\u001b[39mclf,scaler\u001b[39m=\u001b[39mscaler,otsu_times\u001b[39m=\u001b[39m\u001b[39m1.22\u001b[39m,sigmaSpace\u001b[39m=\u001b[39mparam,n_close\u001b[39m=\u001b[39m\u001b[39m1\u001b[39m,n_open\u001b[39m=\u001b[39m\u001b[39m2\u001b[39m,prior_close\u001b[39m=\u001b[39m\u001b[39m1\u001b[39m,trim_percentage\u001b[39m=\u001b[39m\u001b[39m0.008\u001b[39m,mean_white_axis\u001b[39m=\u001b[39m\u001b[39m0\u001b[39m,arc_epsilon\u001b[39m=\u001b[39m\u001b[39m5e-2\u001b[39m,erase_line\u001b[39m=\u001b[39m\u001b[39m0\u001b[39m,pixel\u001b[39m=\u001b[39m\u001b[39m20\u001b[39m)\n\u001b[0;32m     <a href='vscode-notebook-cell:/c%3A/Users/hakos/Downloads/advml/sudoku-solver-hakoshie/test_clf.ipynb#X35sZmlsZQ%3D%3D?line=15'>16</a>\u001b[0m     \u001b[39mwith\u001b[39;00m \u001b[39mopen\u001b[39m(\u001b[39mf\u001b[39m\u001b[39m'\u001b[39m\u001b[39m./\u001b[39m\u001b[39m{\u001b[39;00mdir_path\u001b[39m}\u001b[39;00m\u001b[39m{\u001b[39;00mfile\u001b[39m}\u001b[39;00m\u001b[39m.txt\u001b[39m\u001b[39m'\u001b[39m, \u001b[39m'\u001b[39m\u001b[39mr\u001b[39m\u001b[39m'\u001b[39m) \u001b[39mas\u001b[39;00m f:\n\u001b[0;32m     <a href='vscode-notebook-cell:/c%3A/Users/hakos/Downloads/advml/sudoku-solver-hakoshie/test_clf.ipynb#X35sZmlsZQ%3D%3D?line=16'>17</a>\u001b[0m         matrix_data \u001b[39m=\u001b[39m [[\u001b[39mint\u001b[39m(num) \u001b[39mfor\u001b[39;00m num \u001b[39min\u001b[39;00m line\u001b[39m.\u001b[39msplit()] \u001b[39mfor\u001b[39;00m line \u001b[39min\u001b[39;00m f]\n",
      "File \u001b[1;32mc:\\Users\\hakos\\Downloads\\advml\\sudoku-solver-hakoshie\\recog_l2.py:240\u001b[0m, in \u001b[0;36mrecognize\u001b[1;34m(path, clf, scaler, pixel, ret_img, n_open, n_close, prior_close, trim_percentage, mean_white_axis, arc_epsilon, erase_line, white_thres, otsu_times, clf_f_name, clf_f, scaler_f, sigmaColor, sigmaSpace, pixel_f)\u001b[0m\n\u001b[0;32m    238\u001b[0m         prob=clf_f.predict(scaler_f.transform(res_gr.reshape(1,-1)/255.0))\n\u001b[0;32m    239\u001b[0m         proba.append(prob[0])\n\u001b[1;32m--> 240\u001b[0m         # print(prob)\n\u001b[0;32m    241\u001b[0m res_idx=np.argmax(proba)\n\u001b[0;32m    242\u001b[0m result=results[res_idx]\n",
      "File \u001b[1;32mc:\\Users\\hakos\\miniconda3\\envs\\advml\\Lib\\site-packages\\sklearn\\svm\\_base.py:820\u001b[0m, in \u001b[0;36mBaseSVC.predict\u001b[1;34m(self, X)\u001b[0m\n\u001b[0;32m    818\u001b[0m     y \u001b[39m=\u001b[39m np\u001b[39m.\u001b[39margmax(\u001b[39mself\u001b[39m\u001b[39m.\u001b[39mdecision_function(X), axis\u001b[39m=\u001b[39m\u001b[39m1\u001b[39m)\n\u001b[0;32m    819\u001b[0m \u001b[39melse\u001b[39;00m:\n\u001b[1;32m--> 820\u001b[0m     y \u001b[39m=\u001b[39m \u001b[39msuper\u001b[39m()\u001b[39m.\u001b[39mpredict(X)\n\u001b[0;32m    821\u001b[0m \u001b[39mreturn\u001b[39;00m \u001b[39mself\u001b[39m\u001b[39m.\u001b[39mclasses_\u001b[39m.\u001b[39mtake(np\u001b[39m.\u001b[39masarray(y, dtype\u001b[39m=\u001b[39mnp\u001b[39m.\u001b[39mintp))\n",
      "File \u001b[1;32mc:\\Users\\hakos\\miniconda3\\envs\\advml\\Lib\\site-packages\\sklearn\\svm\\_base.py:435\u001b[0m, in \u001b[0;36mBaseLibSVM.predict\u001b[1;34m(self, X)\u001b[0m\n\u001b[0;32m    433\u001b[0m X \u001b[39m=\u001b[39m \u001b[39mself\u001b[39m\u001b[39m.\u001b[39m_validate_for_predict(X)\n\u001b[0;32m    434\u001b[0m predict \u001b[39m=\u001b[39m \u001b[39mself\u001b[39m\u001b[39m.\u001b[39m_sparse_predict \u001b[39mif\u001b[39;00m \u001b[39mself\u001b[39m\u001b[39m.\u001b[39m_sparse \u001b[39melse\u001b[39;00m \u001b[39mself\u001b[39m\u001b[39m.\u001b[39m_dense_predict\n\u001b[1;32m--> 435\u001b[0m \u001b[39mreturn\u001b[39;00m predict(X)\n",
      "File \u001b[1;32mc:\\Users\\hakos\\miniconda3\\envs\\advml\\Lib\\site-packages\\sklearn\\svm\\_base.py:454\u001b[0m, in \u001b[0;36mBaseLibSVM._dense_predict\u001b[1;34m(self, X)\u001b[0m\n\u001b[0;32m    446\u001b[0m         \u001b[39mraise\u001b[39;00m \u001b[39mValueError\u001b[39;00m(\n\u001b[0;32m    447\u001b[0m             \u001b[39m\"\u001b[39m\u001b[39mX.shape[1] = \u001b[39m\u001b[39m%d\u001b[39;00m\u001b[39m should be equal to \u001b[39m\u001b[39m%d\u001b[39;00m\u001b[39m, \u001b[39m\u001b[39m\"\u001b[39m\n\u001b[0;32m    448\u001b[0m             \u001b[39m\"\u001b[39m\u001b[39mthe number of samples at training time\u001b[39m\u001b[39m\"\u001b[39m\n\u001b[0;32m    449\u001b[0m             \u001b[39m%\u001b[39m (X\u001b[39m.\u001b[39mshape[\u001b[39m1\u001b[39m], \u001b[39mself\u001b[39m\u001b[39m.\u001b[39mshape_fit_[\u001b[39m0\u001b[39m])\n\u001b[0;32m    450\u001b[0m         )\n\u001b[0;32m    452\u001b[0m svm_type \u001b[39m=\u001b[39m LIBSVM_IMPL\u001b[39m.\u001b[39mindex(\u001b[39mself\u001b[39m\u001b[39m.\u001b[39m_impl)\n\u001b[1;32m--> 454\u001b[0m \u001b[39mreturn\u001b[39;00m libsvm\u001b[39m.\u001b[39mpredict(\n\u001b[0;32m    455\u001b[0m     X,\n\u001b[0;32m    456\u001b[0m     \u001b[39mself\u001b[39m\u001b[39m.\u001b[39msupport_,\n\u001b[0;32m    457\u001b[0m     \u001b[39mself\u001b[39m\u001b[39m.\u001b[39msupport_vectors_,\n\u001b[0;32m    458\u001b[0m     \u001b[39mself\u001b[39m\u001b[39m.\u001b[39m_n_support,\n\u001b[0;32m    459\u001b[0m     \u001b[39mself\u001b[39m\u001b[39m.\u001b[39m_dual_coef_,\n\u001b[0;32m    460\u001b[0m     \u001b[39mself\u001b[39m\u001b[39m.\u001b[39m_intercept_,\n\u001b[0;32m    461\u001b[0m     \u001b[39mself\u001b[39m\u001b[39m.\u001b[39m_probA,\n\u001b[0;32m    462\u001b[0m     \u001b[39mself\u001b[39m\u001b[39m.\u001b[39m_probB,\n\u001b[0;32m    463\u001b[0m     svm_type\u001b[39m=\u001b[39msvm_type,\n\u001b[0;32m    464\u001b[0m     kernel\u001b[39m=\u001b[39mkernel,\n\u001b[0;32m    465\u001b[0m     degree\u001b[39m=\u001b[39m\u001b[39mself\u001b[39m\u001b[39m.\u001b[39mdegree,\n\u001b[0;32m    466\u001b[0m     coef0\u001b[39m=\u001b[39m\u001b[39mself\u001b[39m\u001b[39m.\u001b[39mcoef0,\n\u001b[0;32m    467\u001b[0m     gamma\u001b[39m=\u001b[39m\u001b[39mself\u001b[39m\u001b[39m.\u001b[39m_gamma,\n\u001b[0;32m    468\u001b[0m     cache_size\u001b[39m=\u001b[39m\u001b[39mself\u001b[39m\u001b[39m.\u001b[39mcache_size,\n\u001b[0;32m    469\u001b[0m )\n",
      "\u001b[1;31mKeyboardInterrupt\u001b[0m: "
     ]
    }
   ],
   "source": [
    "##################################\n",
    "## search param\n",
    "##################################\n",
    "import recog_l2\n",
    "import sys\n",
    "# import cv2\n",
    "# if not(param_search):\n",
    "#     sys.exit()\n",
    "param_list=[1,3,5,7,9]\n",
    "\n",
    "for param in param_list:\n",
    "    probas=[]\n",
    "    for file in jpg_files:\n",
    "        # pixel=60\n",
    "        problem=recog_l2.recognize(path=f\"./{dir_path}{file}.jpg\",clf=clf,scaler=scaler,otsu_times=1.22,sigmaSpace=param,n_close=1,n_open=2,prior_close=1,trim_percentage=0.008,mean_white_axis=0,arc_epsilon=5e-2,erase_line=0,pixel=20)\n",
    "        with open(f'./{dir_path}{file}.txt', 'r') as f:\n",
    "            matrix_data = [[int(num) for num in line.split()] for line in f]\n",
    "        # print matrix data by row\n",
    "        # for row in matrix_data:\n",
    "        #     print(row)\n",
    "        # convert the matrix data into a numpy array\n",
    "        matrix_array = np.array(matrix_data)\n",
    "        validate=[matrix_data[i][j]==problem[i][j] for i in range(9) for j in range(9)]\n",
    "        proba=sum(validate)/len(validate)\n",
    "        zeros=np.sum(np.array(matrix_data) == 0)\n",
    "        nonzeros=81-zeros\n",
    "        failed=81-proba*81\n",
    "        # print(f\"{file}\",\"{:.4f}\".format(proba),failed,f\"failure rate: {failed/nonzeros:.2f}\")\n",
    "        probas.append(proba)\n",
    "    print(\"param\",param,\"average proba:\",\"{:.4f}\".format(sum(probas)/len(probas)))"
   ]
  },
  {
   "cell_type": "code",
   "execution_count": null,
   "metadata": {},
   "outputs": [
    {
     "name": "stdout",
     "output_type": "stream",
     "text": [
      "n_close 0 n_open 0 average proba: 0.6626\n",
      "n_close 0 n_open 1 average proba: 0.6646\n",
      "n_close 0 n_open 2 average proba: 0.6667\n",
      "n_close 0 n_open 3 average proba: 0.6646\n",
      "n_close 1 n_open 0 average proba: 0.6626\n",
      "n_close 1 n_open 1 average proba: 0.6646\n"
     ]
    },
    {
     "ename": "KeyboardInterrupt",
     "evalue": "",
     "output_type": "error",
     "traceback": [
      "\u001b[1;31m---------------------------------------------------------------------------\u001b[0m",
      "\u001b[1;31mKeyboardInterrupt\u001b[0m                         Traceback (most recent call last)",
      "\u001b[1;32mc:\\Users\\hakos\\Downloads\\advml\\sudoku-solver-hakoshie\\test_clf.ipynb セル 9\u001b[0m line \u001b[0;36m1\n\u001b[0;32m      <a href='vscode-notebook-cell:/c%3A/Users/hakos/Downloads/advml/sudoku-solver-hakoshie/test_clf.ipynb#X11sZmlsZQ%3D%3D?line=7'>8</a>\u001b[0m probas\u001b[39m=\u001b[39m[]\n\u001b[0;32m      <a href='vscode-notebook-cell:/c%3A/Users/hakos/Downloads/advml/sudoku-solver-hakoshie/test_clf.ipynb#X11sZmlsZQ%3D%3D?line=8'>9</a>\u001b[0m \u001b[39mfor\u001b[39;00m file \u001b[39min\u001b[39;00m jpg_files:\n\u001b[0;32m     <a href='vscode-notebook-cell:/c%3A/Users/hakos/Downloads/advml/sudoku-solver-hakoshie/test_clf.ipynb#X11sZmlsZQ%3D%3D?line=9'>10</a>\u001b[0m     \u001b[39m# pixel=60\u001b[39;00m\n\u001b[1;32m---> <a href='vscode-notebook-cell:/c%3A/Users/hakos/Downloads/advml/sudoku-solver-hakoshie/test_clf.ipynb#X11sZmlsZQ%3D%3D?line=10'>11</a>\u001b[0m     problem\u001b[39m=\u001b[39mrecog_l2\u001b[39m.\u001b[39mrecognize(path\u001b[39m=\u001b[39m\u001b[39mf\u001b[39m\u001b[39m\"\u001b[39m\u001b[39m./\u001b[39m\u001b[39m{\u001b[39;00mdir_path\u001b[39m}\u001b[39;00m\u001b[39m{\u001b[39;00mfile\u001b[39m}\u001b[39;00m\u001b[39m.jpg\u001b[39m\u001b[39m\"\u001b[39m,clf\u001b[39m=\u001b[39mclf,scaler\u001b[39m=\u001b[39mscaler,n_close\u001b[39m=\u001b[39mi,n_open\u001b[39m=\u001b[39mj,prior_close\u001b[39m=\u001b[39m\u001b[39m1\u001b[39m,trim_percentage\u001b[39m=\u001b[39m\u001b[39m0.008\u001b[39m,mean_white_axis\u001b[39m=\u001b[39m\u001b[39m0\u001b[39m,arc_epsilon\u001b[39m=\u001b[39m\u001b[39m5e-2\u001b[39m,erase_line\u001b[39m=\u001b[39m\u001b[39m0\u001b[39m,pixel\u001b[39m=\u001b[39m\u001b[39m20\u001b[39m,pixel_f\u001b[39m=\u001b[39m\u001b[39m100\u001b[39m)\n\u001b[0;32m     <a href='vscode-notebook-cell:/c%3A/Users/hakos/Downloads/advml/sudoku-solver-hakoshie/test_clf.ipynb#X11sZmlsZQ%3D%3D?line=11'>12</a>\u001b[0m     \u001b[39mwith\u001b[39;00m \u001b[39mopen\u001b[39m(\u001b[39mf\u001b[39m\u001b[39m'\u001b[39m\u001b[39m./\u001b[39m\u001b[39m{\u001b[39;00mdir_path\u001b[39m}\u001b[39;00m\u001b[39m{\u001b[39;00mfile\u001b[39m}\u001b[39;00m\u001b[39m.txt\u001b[39m\u001b[39m'\u001b[39m, \u001b[39m'\u001b[39m\u001b[39mr\u001b[39m\u001b[39m'\u001b[39m) \u001b[39mas\u001b[39;00m f:\n\u001b[0;32m     <a href='vscode-notebook-cell:/c%3A/Users/hakos/Downloads/advml/sudoku-solver-hakoshie/test_clf.ipynb#X11sZmlsZQ%3D%3D?line=12'>13</a>\u001b[0m         matrix_data \u001b[39m=\u001b[39m [[\u001b[39mint\u001b[39m(num) \u001b[39mfor\u001b[39;00m num \u001b[39min\u001b[39;00m line\u001b[39m.\u001b[39msplit()] \u001b[39mfor\u001b[39;00m line \u001b[39min\u001b[39;00m f]\n",
      "File \u001b[1;32mc:\\Users\\hakos\\Downloads\\advml\\sudoku-solver-hakoshie\\recog_l2.py:35\u001b[0m, in \u001b[0;36mrecognize\u001b[1;34m(path, clf, scaler, pixel, ret_img, n_open, n_close, prior_close, trim_percentage, mean_white_axis, arc_epsilon, erase_line, white_thres, otsu_times, clf_f_name, clf_f, scaler_f, sigmaColor, sigmaSpace, pixel_f)\u001b[0m\n\u001b[0;32m     31\u001b[0m gray \u001b[39m=\u001b[39m cv2\u001b[39m.\u001b[39mcvtColor(image, cv2\u001b[39m.\u001b[39mCOLOR_RGB2GRAY)\n\u001b[0;32m     32\u001b[0m \u001b[39m# print(image.shape)\u001b[39;00m\n\u001b[0;32m     33\u001b[0m \u001b[39m# ぼかし処理\u001b[39;00m\n\u001b[0;32m     34\u001b[0m \u001b[39m# gray_gb = cv2.GaussianBlur(gray, None, 3.0)\u001b[39;00m\n\u001b[1;32m---> 35\u001b[0m gray_gb\u001b[39m=\u001b[39m cv2\u001b[39m.\u001b[39mbilateralFilter(gray, \u001b[39m11\u001b[39m, sigmaColor, sigmaSpace)\n\u001b[0;32m     36\u001b[0m \u001b[39m##########################\u001b[39;00m\n\u001b[0;32m     37\u001b[0m \u001b[39m## エッジ検出、輪郭抽出\u001b[39;00m\n\u001b[0;32m     38\u001b[0m \u001b[39m############################\u001b[39;00m\n\u001b[0;32m     39\u001b[0m thr, binary \u001b[39m=\u001b[39m cv2\u001b[39m.\u001b[39mthreshold(gray_gb, \u001b[39m0\u001b[39m, \u001b[39m255\u001b[39m, cv2\u001b[39m.\u001b[39mTHRESH_OTSU)\n",
      "\u001b[1;31mKeyboardInterrupt\u001b[0m: "
     ]
    }
   ],
   "source": [
    "##################################\n",
    "## search n_close and n_open\n",
    "##################################\n",
    "import recog_l2\n",
    "# import cv2\n",
    "for i in range(4):\n",
    "    for j in range(4):\n",
    "        probas=[]\n",
    "        for file in jpg_files:\n",
    "            # pixel=60\n",
    "            problem=recog_l2.recognize(path=f\"./{dir_path}{file}.jpg\",clf=clf,scaler=scaler,n_close=i,n_open=j,prior_close=1,trim_percentage=0.008,mean_white_axis=0,arc_epsilon=5e-2,erase_line=0,pixel=20,pixel_f=100)\n",
    "            with open(f'./{dir_path}{file}.txt', 'r') as f:\n",
    "                matrix_data = [[int(num) for num in line.split()] for line in f]\n",
    "            # print matrix data by row\n",
    "            # for row in matrix_data:\n",
    "            #     print(row)\n",
    "            # convert the matrix data into a numpy array\n",
    "            matrix_array = np.array(matrix_data)\n",
    "            validate=[matrix_data[i][j]==problem[i][j] for i in range(9) for j in range(9)]\n",
    "            proba=sum(validate)/len(validate)\n",
    "            zeros=np.sum(np.array(matrix_data) == 0)\n",
    "            nonzeros=81-zeros\n",
    "            failed=81-proba*81\n",
    "            # print(f\"{file}\",\"{:.4f}\".format(proba),failed,f\"failure rate: {failed/nonzeros:.2f}\")\n",
    "            probas.append(proba)\n",
    "        print(\"n_close\",i,\"n_open\",j,\"average proba:\",\"{:.4f}\".format(sum(probas)/len(probas)))"
   ]
  },
  {
   "cell_type": "code",
   "execution_count": null,
   "metadata": {},
   "outputs": [
    {
     "name": "stdout",
     "output_type": "stream",
     "text": [
      "n_close 0 n_open 0 average proba: 0.9588\n",
      "n_close 0 n_open 1 average proba: 0.9691\n",
      "n_close 0 n_open 2 average proba: 0.9630\n",
      "n_close 0 n_open 3 average proba: 0.9671\n",
      "n_close 1 n_open 0 average proba: 0.9691\n",
      "n_close 1 n_open 1 average proba: 0.9650\n",
      "n_close 1 n_open 2 average proba: 0.9650\n",
      "n_close 1 n_open 3 average proba: 0.9691\n",
      "n_close 2 n_open 0 average proba: 0.9383\n",
      "n_close 2 n_open 1 average proba: 0.9383\n",
      "n_close 2 n_open 2 average proba: 0.9568\n",
      "n_close 2 n_open 3 average proba: 0.9568\n",
      "n_close 3 n_open 0 average proba: 0.9115\n",
      "n_close 3 n_open 1 average proba: 0.9198\n",
      "n_close 3 n_open 2 average proba: 0.9115\n",
      "n_close 3 n_open 3 average proba: 0.9362\n"
     ]
    }
   ],
   "source": [
    "for i in range(4):\n",
    "    for j in range(4):\n",
    "        probas=[]\n",
    "        for file in jpg_files:\n",
    "            # pixel=60\n",
    "            problem=recog_l2.recognize(path=f\"./{dir_path}{file}.jpg\",n_close=i,n_open=j,prior_close=60\n",
    "            with open(f'./{dir_path}{file}.txt', 'r') as f:\n",
    "                matrix_data = [[int(num) for num in line.split()] for line in f]\n",
    "            # print matrix data by row\n",
    "            # for row in matrix_data:\n",
    "            #     print(row)\n",
    "            # convert the matrix data into a numpy array\n",
    "            matrix_array = np.array(matrix_data)\n",
    "            validate=[matrix_data[i][j]==problem[i][j] for i in range(9) for j in range(9)]\n",
    "            proba=sum(validate)/len(validate)\n",
    "            zeros=np.sum(np.array(matrix_data) == 0)\n",
    "            nonzeros=81-zeros\n",
    "            failed=81-proba*81\n",
    "            # print(f\"{file}\",\"{:.4f}\".format(proba),failed,f\"failure rate: {failed/nonzeros:.2f}\")\n",
    "            probas.append(proba)\n",
    "        print(\"n_close\",i,\"n_open\",j,\"average proba:\",\"{:.4f}\".format(sum(probas)/len(probas)))"
   ]
  },
  {
   "cell_type": "code",
   "execution_count": null,
   "metadata": {},
   "outputs": [],
   "source": [
    "# with open(f'./data/{file}.txt', 'r') as f:\n",
    "#     matrix_data = [[int(num) for num in line.split()] for line in f]\n",
    "# # print matrix data by row\n",
    "# for row in matrix_data:\n",
    "#     print(row)\n",
    "# # convert the matrix data into a numpy array\n",
    "# matrix_array = np.array(matrix_data)\n",
    "# validate=[matrix_data[i][j]==problem[i][j] for i in range(9) for j in range(9)]\n",
    "# proba=sum(validate)/len(validate)\n",
    "# zeros=np.sum(np.array(matrix_data) == 0)\n",
    "# nonzeros=81-zeros\n",
    "# failed=81-proba*81\n",
    "# print(proba,failed,f\"failure rate: {failed/nonzeros:.2f}\")"
   ]
  }
 ],
 "metadata": {
  "kernelspec": {
   "display_name": "advml",
   "language": "python",
   "name": "python3"
  },
  "language_info": {
   "codemirror_mode": {
    "name": "ipython",
    "version": 3
   },
   "file_extension": ".py",
   "mimetype": "text/x-python",
   "name": "python",
   "nbconvert_exporter": "python",
   "pygments_lexer": "ipython3",
   "version": "3.11.5"
  }
 },
 "nbformat": 4,
 "nbformat_minor": 2
}
