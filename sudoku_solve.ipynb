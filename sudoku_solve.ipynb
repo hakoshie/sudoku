{
 "cells": [
  {
   "cell_type": "code",
   "execution_count": 2,
   "metadata": {},
   "outputs": [],
   "source": [
    "from itertools import product\n",
    "import pandas as pd\n",
    "import numpy as np\n",
    "import re\n"
   ]
  },
  {
   "cell_type": "code",
   "execution_count": 3,
   "metadata": {},
   "outputs": [],
   "source": [
    "# Knuth's Algorithm X\n",
    "def dfs(df: pd.DataFrame):\n",
    "    # 使い勝手のためにNumPy配列に変換\n",
    "    m = df.to_numpy()\n",
    "    if m.size == 0:\n",
    "        return []\n",
    "\n",
    "    # 1の数が最小の行を探す\n",
    "    sums = np.sum(m, axis=0)\n",
    "    sc = np.argmin(sums)\n",
    "    if sums[sc] == 0:\n",
    "        return None\n",
    "\n",
    "    sel_rows = np.where(m[:, sc])[0]\n",
    "    for sr in sel_rows:\n",
    "        mask_cols = np.where(m[sr, :])[0]\n",
    "        mask_rows = [np.where(m[:, c])[0] for c in mask_cols]\n",
    "        mask_rows = np.unique(np.concatenate(mask_rows))\n",
    "\n",
    "        new_df = df.drop(index=df.index[mask_rows]).drop(columns=df.columns[mask_cols])\n",
    "        ret = dfs(new_df)\n",
    "        if ret is not None:\n",
    "            return ret + [df.index[sr]]\n",
    "\n",
    "    return None"
   ]
  },
  {
   "cell_type": "code",
   "execution_count": 4,
   "metadata": {},
   "outputs": [],
   "source": [
    "problem = \"\"\"\n",
    "---------\n",
    "3--2-9--7\n",
    "94--1--82\n",
    "-5-6-2-3-\n",
    "--63-74--\n",
    "---------\n",
    "---------\n",
    "-82-3-59-\n",
    "1--9-4--6\n",
    "\"\"\""
   ]
  },
  {
   "cell_type": "code",
   "execution_count": 5,
   "metadata": {},
   "outputs": [
    {
     "name": "stdout",
     "output_type": "stream",
     "text": [
      "Solution is:\n",
      "[[5 2 1 7 6 8 3 4 9]\n",
      " [3 6 8 2 4 9 1 5 7]\n",
      " [9 4 7 5 1 3 6 8 2]\n",
      " [4 5 9 6 8 2 7 3 1]\n",
      " [8 1 6 3 9 7 4 2 5]\n",
      " [2 7 3 4 5 1 9 6 8]\n",
      " [6 9 4 8 7 5 2 1 3]\n",
      " [7 8 2 1 3 6 5 9 4]\n",
      " [1 3 5 9 2 4 8 7 6]]\n"
     ]
    }
   ],
   "source": [
    "\n",
    "problem = np.array(\n",
    "    [numbers[c] for line in re.split(\"[\\r\\n]{1,2}\", problem) if line != \"\" for c in line],\n",
    "    dtype=\"uint8\",\n",
    ").reshape((9, 9))\n",
    "print(\"Solution is:\\n\" + str(solve(problem)))"
   ]
  },
  {
   "cell_type": "code",
   "execution_count": 6,
   "metadata": {},
   "outputs": [],
   "source": [
    "# Knuth's Algorithm X\n",
    "def dfs(df: pd.DataFrame):\n",
    "    # 使い勝手のためにNumPy配列に変換\n",
    "    m = df.to_numpy()\n",
    "    if m.size == 0:\n",
    "        return []\n",
    "\n",
    "    # 1の数が最小の行を探す\n",
    "    sums = np.sum(m, axis=0)\n",
    "    selected_col = np.argmin(sums)\n",
    "    if sums[selected_col] == 0:\n",
    "        return None\n",
    "\n",
    "    sel_rows = np.where(m[:, selected_col])[0]\n",
    "    for sr in sel_rows:\n",
    "        mask_cols = np.where(m[sr, :])[0]\n",
    "        mask_rows = [np.where(m[:, c])[0] for c in mask_cols]\n",
    "        mask_rows = np.unique(np.concatenate(mask_rows))\n",
    "\n",
    "        new_df = df.drop(index=df.index[mask_rows]).drop(columns=df.columns[mask_cols])\n",
    "        ret = dfs(new_df)\n",
    "        if ret is not None:\n",
    "            return ret + [df.index[sr]]\n",
    "\n",
    "    return None"
   ]
  },
  {
   "cell_type": "code",
   "execution_count": 26,
   "metadata": {},
   "outputs": [
    {
     "data": {
      "text/plain": [
       "(array([0, 1], dtype=int64),)"
      ]
     },
     "execution_count": 26,
     "metadata": {},
     "output_type": "execute_result"
    }
   ],
   "source": [
    "A=[[1,1,0],[0,1,1]]\n",
    "A=np.array(A)\n",
    "np.where(A[:,1])"
   ]
  },
  {
   "cell_type": "code",
   "execution_count": 9,
   "metadata": {},
   "outputs": [
    {
     "data": {
      "text/plain": [
       "array([[1, 1, 0],\n",
       "       [0, 1, 1]])"
      ]
     },
     "execution_count": 9,
     "metadata": {},
     "output_type": "execute_result"
    }
   ],
   "source": [
    "A"
   ]
  }
 ],
 "metadata": {
  "kernelspec": {
   "display_name": "advml",
   "language": "python",
   "name": "python3"
  },
  "language_info": {
   "codemirror_mode": {
    "name": "ipython",
    "version": 3
   },
   "file_extension": ".py",
   "mimetype": "text/x-python",
   "name": "python",
   "nbconvert_exporter": "python",
   "pygments_lexer": "ipython3",
   "version": "3.11.5"
  }
 },
 "nbformat": 4,
 "nbformat_minor": 2
}
