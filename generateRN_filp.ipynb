{
 "cells": [
  {
   "cell_type": "code",
   "execution_count": 3,
   "metadata": {},
   "outputs": [],
   "source": [
    "from PIL import Image, ImageDraw, ImageFont\n",
    "import random\n",
    "import numpy as np\n",
    "import matplotlib.font_manager as fm\n",
    "import os\n",
    "import cv2\n",
    "\n",
    "font_dir = r'C:\\Windows\\Fonts'\n",
    "font_list = [os.path.basename(f) for f in os.listdir(font_dir) if f.endswith('.ttf')]\n",
    "font_list= font_list[:30]\n",
    "# 画像のサイズを設定する\n",
    "K=250\n",
    "pixel = 111\n",
    "N,M=9,9\n",
    "for id in range(250):\n",
    "    # 画像を作成する\n",
    "    image = Image.new('RGB', (pixel*M, pixel*N), color=(255, 255, 255))\n",
    "\n",
    "    # 数字をランダムに選択する\n",
    "    numbers = [[random.randint(1, 9) for _ in range(M)] for _ in range(N)]\n",
    "\n",
    "    for i in range(N):\n",
    "        for j in range(M):\n",
    "            rnd=random.randint(-10, 10)\n",
    "            font_rnd=random.choice(font_list)\n",
    "            # 数字を描画する\n",
    "            draw = ImageDraw.Draw(image)\n",
    "            mu, sigma = 0, pixel//15\n",
    "            dx = int(np.random.normal(mu, sigma))\n",
    "            dy = int(np.random.normal(mu, sigma))\n",
    "            # フォントをランダムに選択する\n",
    "            # フォントサイズもランダムに上下させる\n",
    "            font = ImageFont.truetype(font_rnd, size=pixel//2+rnd)\n",
    "            \n",
    "            # 数字を描画する\n",
    "            number = numbers[i][j]\n",
    "            text_bbox = draw.textbbox((0, 0), str(number), font=font)\n",
    "            text_width = text_bbox[2] - text_bbox[0]\n",
    "            text_height = text_bbox[3] - text_bbox[1]\n",
    "            x = j*pixel + (pixel - text_width) // 2\n",
    "            y = i*pixel + (pixel - text_height) // 2\n",
    "            \n",
    "            # 中心から上下左右に正規分布でずらす\n",
    "            x += dx\n",
    "            y += dy\n",
    "            # 確率1/2で描画する\n",
    "            # if random.random() < 0.4:\n",
    "            draw.text((x, y), f\"{number}\", font=font, fill=(0, 0, 0))\n",
    "    for i in range(4):\n",
    "    # 画像を保存する\n",
    "        flip=np.rot90(image,i)\n",
    "        flip=Image.fromarray(np.uint8(flip))\n",
    "        flip.save(f'./training_data/flip_{id}_{i}.png')\n",
    "\n"
   ]
  }
 ],
 "metadata": {
  "kernelspec": {
   "display_name": "advml",
   "language": "python",
   "name": "python3"
  },
  "language_info": {
   "codemirror_mode": {
    "name": "ipython",
    "version": 3
   },
   "file_extension": ".py",
   "mimetype": "text/x-python",
   "name": "python",
   "nbconvert_exporter": "python",
   "pygments_lexer": "ipython3",
   "version": "3.11.5"
  }
 },
 "nbformat": 4,
 "nbformat_minor": 2
}
