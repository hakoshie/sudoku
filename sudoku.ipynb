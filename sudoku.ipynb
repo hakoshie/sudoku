{
 "cells": [
  {
   "cell_type": "code",
   "execution_count": 4,
   "metadata": {},
   "outputs": [],
   "source": [
    "from itertools import product\n",
    "import pandas as pd\n",
    "import numpy as np\n",
    "import re\n",
    "from sudoku import solve\n",
    "import os\n",
    "import cv2"
   ]
  },
  {
   "cell_type": "code",
   "execution_count": 5,
   "metadata": {},
   "outputs": [
    {
     "name": "stdout",
     "output_type": "stream",
     "text": [
      "sample\n",
      "sudoku_026\n",
      "sudoku_027\n",
      "sudoku_028\n",
      "sudoku_029\n",
      "sudoku_030\n"
     ]
    },
    {
     "data": {
      "text/plain": [
       "'././data/level1/sample.jpg'"
      ]
     },
     "execution_count": 5,
     "metadata": {},
     "output_type": "execute_result"
    }
   ],
   "source": [
    "\n",
    "# ディレクトリ内のファイルを取得する\n",
    "dir_path = \"./data/level1/\"\n",
    "files = os.listdir(dir_path)\n",
    "# jpgファイルのみを取得する\n",
    "jpg_files = [os.path.splitext(f)[0] for f in files if f.endswith('.jpg')]\n",
    "\n",
    "# ファイル名を表示する\n",
    "for f in jpg_files:\n",
    "    print(f)\n",
    "# jpg_files\n",
    "# pixel=60\n",
    "file=\"sample\"\n",
    "f\"./{dir_path}{file}.jpg\"\n",
    "# problem=recog_l2.recognize(path=f\"./{dir_path}{file}.jpg\",arc_epsilon=5e-2)\n",
    "# img=recog_l2.recognize(path=f\"./{dir_path}{file}.jpg\",arc_epsilon=5e-2,ret_img=1,erase_line=0)\n",
    "# plt.imshow(img)\n",
    "# problem"
   ]
  },
  {
   "cell_type": "code",
   "execution_count": 8,
   "metadata": {},
   "outputs": [
    {
     "data": {
      "text/plain": [
       "array([[2, 3, 5, 7, 9, 1, 6, 4, 8],\n",
       "       [1, 6, 9, 4, 2, 8, 7, 5, 3],\n",
       "       [7, 4, 8, 6, 3, 5, 9, 2, 1],\n",
       "       [3, 9, 6, 2, 7, 4, 8, 1, 5],\n",
       "       [5, 2, 1, 3, 8, 9, 4, 6, 7],\n",
       "       [4, 8, 7, 1, 5, 6, 3, 9, 2],\n",
       "       [8, 5, 3, 9, 6, 2, 1, 7, 4],\n",
       "       [9, 7, 4, 5, 1, 3, 2, 8, 6],\n",
       "       [6, 1, 2, 8, 4, 7, 5, 3, 9]])"
      ]
     },
     "execution_count": 8,
     "metadata": {},
     "output_type": "execute_result"
    }
   ],
   "source": [
    "# how solve works\n",
    "image_path = f\"./{dir_path}{file}.jpg\"\n",
    "image = cv2.imread(image_path, cv2.IMREAD_COLOR)\n",
    "image = cv2.cvtColor(image, cv2.COLOR_BGR2RGB)\n",
    "solve(image)"
   ]
  }
 ],
 "metadata": {
  "kernelspec": {
   "display_name": "advml",
   "language": "python",
   "name": "python3"
  },
  "language_info": {
   "codemirror_mode": {
    "name": "ipython",
    "version": 3
   },
   "file_extension": ".py",
   "mimetype": "text/x-python",
   "name": "python",
   "nbconvert_exporter": "python",
   "pygments_lexer": "ipython3",
   "version": "3.11.5"
  }
 },
 "nbformat": 4,
 "nbformat_minor": 2
}
