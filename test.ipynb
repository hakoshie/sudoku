{
 "cells": [
  {
   "cell_type": "code",
   "execution_count": 9,
   "metadata": {},
   "outputs": [],
   "source": [
    "%reload_ext autoreload\n",
    "%autoreload 2\n",
    "import cv2\n",
    "import numpy as np\n",
    "import matplotlib.pyplot as plt\n",
    "import pandas as pd\n",
    "import os\n",
    "import random\n",
    "import warnings\n",
    "from itertools import product\n",
    "\n",
    "import numpy as np\n",
    "import pandas as pd\n",
    "import seaborn as sns\n",
    "import matplotlib\n",
    "import matplotlib.pyplot as plt\n",
    "from IPython import display\n",
    "from tqdm.notebook import tqdm\n",
    "from sklearn.exceptions import ConvergenceWarning\n",
    "\n",
    "\n",
    "# warnings.simplefilter(\"ignore\", ConvergenceWarning)\n",
    "# warnings.simplefilter(\"ignore\", FutureWarning)\n",
    "# os.environ[\"PYTHONWARNINGS\"] = \"ignore\""
   ]
  },
  {
   "cell_type": "code",
   "execution_count": 10,
   "metadata": {},
   "outputs": [],
   "source": [
    "from sklearn import model_selection\n",
    "from sklearn.preprocessing import StandardScaler\n",
    "from sklearn.linear_model import LogisticRegression\n",
    "from sklearn.ensemble import RandomForestClassifier\n",
    "from sklearn.neighbors import KNeighborsClassifier\n",
    "\n",
    "from sklearn.ensemble import AdaBoostClassifier\n",
    "from sklearn.svm import SVC\n",
    "\n"
   ]
  },
  {
   "cell_type": "code",
   "execution_count": 11,
   "metadata": {},
   "outputs": [
    {
     "name": "stdout",
     "output_type": "stream",
     "text": [
      "sample\n",
      "sudoku_026\n",
      "sudoku_027\n",
      "sudoku_028\n",
      "sudoku_029\n",
      "sudoku_030\n"
     ]
    },
    {
     "data": {
      "text/plain": [
       "['sample',\n",
       " 'sudoku_026',\n",
       " 'sudoku_027',\n",
       " 'sudoku_028',\n",
       " 'sudoku_029',\n",
       " 'sudoku_030']"
      ]
     },
     "execution_count": 11,
     "metadata": {},
     "output_type": "execute_result"
    }
   ],
   "source": [
    "import os\n",
    "\n",
    "# ディレクトリ内のファイルを取得する\n",
    "dir_path = \"./data/level1/\"\n",
    "files = os.listdir(dir_path)\n",
    "\n",
    "# jpgファイルのみを取得する\n",
    "jpg_files = [os.path.splitext(f)[0] for f in files if f.endswith('.jpg')]\n",
    "\n",
    "# ファイル名を表示する\n",
    "for f in jpg_files:\n",
    "    print(f)\n",
    "jpg_files"
   ]
  },
  {
   "cell_type": "code",
   "execution_count": 12,
   "metadata": {},
   "outputs": [],
   "source": [
    "import pickle\n",
    "# save model and scaler\n",
    "# # file=\"svc_rbf\"\n",
    "# file=\"rf\"\n",
    "# with open(f'./pickle/{file}_clf.pickle', mode='wb') as fp:\n",
    "#     pickle.dump(clf, fp)\n",
    "# with open(f'./pickle/{file}_scaler.pickle', mode='wb') as fp:\n",
    "#     pickle.dump(scaler, fp)\n",
    "\n",
    "# reload\n",
    "# scaler = pd.read_pickle('./pickle/rf_scaler.pickle')\n",
    "# clf=pd.read_pickle('./pickle/rf_clf.pickle')\n",
    "# X_test = scaler.transform(X_test)\n",
    "# acc_test = 100.0 * clf.score(X_test, y_test)\n",
    "# print(\"rf_acc_test\", acc_test)\n",
    "# cv2.imread(\"./data/level1/sample.jpg\").shape"
   ]
  },
  {
   "cell_type": "code",
   "execution_count": 13,
   "metadata": {},
   "outputs": [],
   "source": [
    "# import recog\n",
    "import recog_l2\n",
    "# import cv2\n",
    "pixel=60\n",
    "\n",
    "file=\"sample\"\n",
    "problems=recog_l2.recognize(path=f\"./{dir_path}{file}.jpg\")\n",
    "problems\n",
    "problem=problems[0]"
   ]
  },
  {
   "cell_type": "code",
   "execution_count": 23,
   "metadata": {},
   "outputs": [
    {
     "name": "stdout",
     "output_type": "stream",
     "text": [
      "sample 0.9753 2.0 failure rate: 0.07\n",
      "sudoku_026 1.0000 0.0 failure rate: 0.00\n",
      "sudoku_027 0.9877 1.0 failure rate: 0.02\n",
      "sudoku_028 0.9753 2.0 failure rate: 0.05\n",
      "sudoku_029 0.9753 2.0 failure rate: 0.05\n",
      "sudoku_030 1.0000 0.0 failure rate: 0.00\n"
     ]
    }
   ],
   "source": [
    "for file in jpg_files:\n",
    "        # pixel=60\n",
    "        problems=recog_l2.recognize(path=f\"./{dir_path}{file}.jpg\",n_close=0,n_open=2,prior_close=1,trim_percentage=0.008)\n",
    "        # problems\n",
    "        problem=problems[0]\n",
    "        with open(f'./{dir_path}{file}.txt', 'r') as f:\n",
    "            matrix_data = [[int(num) for num in line.split()] for line in f]\n",
    "        # print matrix data by row\n",
    "        # for row in matrix_data:\n",
    "        #     print(row)\n",
    "        # convert the matrix data into a numpy array\n",
    "        matrix_array = np.array(matrix_data)\n",
    "        validate=[matrix_data[i][j]==problem[i][j] for i in range(9) for j in range(9)]\n",
    "        proba=sum(validate)/len(validate)\n",
    "        zeros=np.sum(np.array(matrix_data) == 0)\n",
    "        nonzeros=81-zeros\n",
    "        failed=81-proba*81\n",
    "        print(f\"{file}\",\"{:.4f}\".format(proba),failed,f\"failure rate: {failed/nonzeros:.2f}\")\n",
    "        # probas.append(proba)"
   ]
  },
  {
   "cell_type": "code",
   "execution_count": 22,
   "metadata": {},
   "outputs": [
    {
     "name": "stdout",
     "output_type": "stream",
     "text": [
      "n_close 0 n_open 0 average proba: 0.9794\n",
      "n_close 0 n_open 1 average proba: 0.9835\n",
      "n_close 0 n_open 2 average proba: 0.9856\n",
      "n_close 0 n_open 3 average proba: 0.9835\n",
      "n_close 1 n_open 0 average proba: 0.9794\n",
      "n_close 1 n_open 1 average proba: 0.9835\n",
      "n_close 1 n_open 2 average proba: 0.9856\n",
      "n_close 1 n_open 3 average proba: 0.9835\n",
      "n_close 2 n_open 0 average proba: 0.9794\n",
      "n_close 2 n_open 1 average proba: 0.9835\n",
      "n_close 2 n_open 2 average proba: 0.9856\n",
      "n_close 2 n_open 3 average proba: 0.9835\n",
      "n_close 3 n_open 0 average proba: 0.9794\n",
      "n_close 3 n_open 1 average proba: 0.9835\n",
      "n_close 3 n_open 2 average proba: 0.9856\n",
      "n_close 3 n_open 3 average proba: 0.9835\n"
     ]
    }
   ],
   "source": [
    "# import recog\n",
    "import recog_l2\n",
    "# import cv2\n",
    "for i in range(4):\n",
    "    for j in range(4):\n",
    "        probas=[]\n",
    "        for file in jpg_files:\n",
    "            # pixel=60\n",
    "            problems=recog_l2.recognize(path=f\"./{dir_path}{file}.jpg\",n_close=i,n_open=j,prior_close=1)\n",
    "            # problems\n",
    "            problem=problems[0]\n",
    "            with open(f'./{dir_path}{file}.txt', 'r') as f:\n",
    "                matrix_data = [[int(num) for num in line.split()] for line in f]\n",
    "            # print matrix data by row\n",
    "            # for row in matrix_data:\n",
    "            #     print(row)\n",
    "            # convert the matrix data into a numpy array\n",
    "            matrix_array = np.array(matrix_data)\n",
    "            validate=[matrix_data[i][j]==problem[i][j] for i in range(9) for j in range(9)]\n",
    "            proba=sum(validate)/len(validate)\n",
    "            zeros=np.sum(np.array(matrix_data) == 0)\n",
    "            nonzeros=81-zeros\n",
    "            failed=81-proba*81\n",
    "            # print(f\"{file}\",\"{:.4f}\".format(proba),failed,f\"failure rate: {failed/nonzeros:.2f}\")\n",
    "            probas.append(proba)\n",
    "        print(\"n_close\",i,\"n_open\",j,\"average proba:\",\"{:.4f}\".format(sum(probas)/len(probas)))"
   ]
  },
  {
   "cell_type": "code",
   "execution_count": null,
   "metadata": {},
   "outputs": [
    {
     "name": "stdout",
     "output_type": "stream",
     "text": [
      "n_close 0 n_open 0 average proba: 0.9588\n",
      "n_close 0 n_open 1 average proba: 0.9691\n",
      "n_close 0 n_open 2 average proba: 0.9630\n",
      "n_close 0 n_open 3 average proba: 0.9671\n",
      "n_close 1 n_open 0 average proba: 0.9691\n",
      "n_close 1 n_open 1 average proba: 0.9650\n",
      "n_close 1 n_open 2 average proba: 0.9650\n",
      "n_close 1 n_open 3 average proba: 0.9691\n",
      "n_close 2 n_open 0 average proba: 0.9383\n",
      "n_close 2 n_open 1 average proba: 0.9383\n",
      "n_close 2 n_open 2 average proba: 0.9568\n",
      "n_close 2 n_open 3 average proba: 0.9568\n",
      "n_close 3 n_open 0 average proba: 0.9115\n",
      "n_close 3 n_open 1 average proba: 0.9198\n",
      "n_close 3 n_open 2 average proba: 0.9115\n",
      "n_close 3 n_open 3 average proba: 0.9362\n"
     ]
    }
   ],
   "source": [
    "for i in range(4):\n",
    "    for j in range(4):\n",
    "        probas=[]\n",
    "        for file in jpg_files:\n",
    "            # pixel=60\n",
    "            problems=recog_l2.recognize(path=f\"./{dir_path}{file}.jpg\",n_close=i,n_open=j,prior_close=0)\n",
    "            # problems\n",
    "            problem=problems[0]\n",
    "            with open(f'./{dir_path}{file}.txt', 'r') as f:\n",
    "                matrix_data = [[int(num) for num in line.split()] for line in f]\n",
    "            # print matrix data by row\n",
    "            # for row in matrix_data:\n",
    "            #     print(row)\n",
    "            # convert the matrix data into a numpy array\n",
    "            matrix_array = np.array(matrix_data)\n",
    "            validate=[matrix_data[i][j]==problem[i][j] for i in range(9) for j in range(9)]\n",
    "            proba=sum(validate)/len(validate)\n",
    "            zeros=np.sum(np.array(matrix_data) == 0)\n",
    "            nonzeros=81-zeros\n",
    "            failed=81-proba*81\n",
    "            # print(f\"{file}\",\"{:.4f}\".format(proba),failed,f\"failure rate: {failed/nonzeros:.2f}\")\n",
    "            probas.append(proba)\n",
    "        print(\"n_close\",i,\"n_open\",j,\"average proba:\",\"{:.4f}\".format(sum(probas)/len(probas)))"
   ]
  },
  {
   "cell_type": "code",
   "execution_count": null,
   "metadata": {},
   "outputs": [],
   "source": [
    "# with open(f'./data/{file}.txt', 'r') as f:\n",
    "#     matrix_data = [[int(num) for num in line.split()] for line in f]\n",
    "# # print matrix data by row\n",
    "# for row in matrix_data:\n",
    "#     print(row)\n",
    "# # convert the matrix data into a numpy array\n",
    "# matrix_array = np.array(matrix_data)\n",
    "# validate=[matrix_data[i][j]==problem[i][j] for i in range(9) for j in range(9)]\n",
    "# proba=sum(validate)/len(validate)\n",
    "# zeros=np.sum(np.array(matrix_data) == 0)\n",
    "# nonzeros=81-zeros\n",
    "# failed=81-proba*81\n",
    "# print(proba,failed,f\"failure rate: {failed/nonzeros:.2f}\")"
   ]
  }
 ],
 "metadata": {
  "kernelspec": {
   "display_name": "advml",
   "language": "python",
   "name": "python3"
  },
  "language_info": {
   "codemirror_mode": {
    "name": "ipython",
    "version": 3
   },
   "file_extension": ".py",
   "mimetype": "text/x-python",
   "name": "python",
   "nbconvert_exporter": "python",
   "pygments_lexer": "ipython3",
   "version": "3.11.5"
  }
 },
 "nbformat": 4,
 "nbformat_minor": 2
}
