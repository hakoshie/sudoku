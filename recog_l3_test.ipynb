{
 "cells": [
  {
   "cell_type": "code",
   "execution_count": 3,
   "metadata": {},
   "outputs": [],
   "source": [
    "import cv2\n",
    "import numpy as np\n",
    "import matplotlib.pyplot as plt\n",
    "import pandas as pd\n",
    "import pickle\n",
    "import recog_l3\n",
    "import os "
   ]
  },
  {
   "cell_type": "code",
   "execution_count": 6,
   "metadata": {},
   "outputs": [
    {
     "name": "stdout",
     "output_type": "stream",
     "text": [
      "sample 0\n",
      "sudoku_026 9\n",
      "sudoku_027 9\n",
      "sudoku_028 9\n",
      "sudoku_029 9\n",
      "sudoku_030 9\n",
      "sample 9\n",
      "sudoku_00026 9\n",
      "sudoku_00027 -1\n",
      "sudoku_00028 -1\n",
      "sudoku_00030 -1\n",
      "sudoku_00031 9\n",
      "sample 9\n",
      "sudoku_00011 9\n",
      "sudoku_00012 9\n",
      "sudoku_00013 9\n",
      "sudoku_00014 9\n",
      "sudoku_00015 9\n"
     ]
    },
    {
     "data": {
      "text/plain": [
       "6.833333333333333"
      ]
     },
     "execution_count": 6,
     "metadata": {},
     "output_type": "execute_result"
    }
   ],
   "source": [
    "scores = []\n",
    "for i in range(1,4):\n",
    "    dir_path = f\"./data/level{i}/\"\n",
    "    files = os.listdir(dir_path)\n",
    "    # jpgファイルのみを取得する\n",
    "    jpg_files = [os.path.splitext(f)[0] for f in files if f.endswith('.jpg')]\n",
    "    # ファイル名を表示する\n",
    "    # for f in jpg_files:\n",
    "    #     print(f)\n",
    "    \n",
    "    for file in jpg_files:\n",
    "        # score=recog_l3.recognize(f\"./{dir_path}{file}.jpg\",ret_num=1,otsu_times=1.05,white_thres=250,clipLimit2=4,tileGridSize2=50,n_dilate=4,n_erode=3,first_clahe=1,clipLimit1=1.5,tileGridSize1=100,clahe_time=1)\n",
    "        score=recog_l3.recognize(f\"./{dir_path}{file}.jpg\",ret_num=1,otsu_times=1.05,white_thres=250,clipLimit2=0.46,tileGridSize2=7,n_dilate=4,n_erode=3,first_clahe=1,clipLimit1=.5,tileGridSize1=95,clahe_time2=2)\n",
    "        print(file,score)\n",
    "        scores.append(score)\n",
    "np.mean(scores)"
   ]
  },
  {
   "cell_type": "code",
   "execution_count": 13,
   "metadata": {},
   "outputs": [
    {
     "name": "stdout",
     "output_type": "stream",
     "text": [
      "otsu:1.05,oks:9\n"
     ]
    },
    {
     "ename": "KeyboardInterrupt",
     "evalue": "",
     "output_type": "error",
     "traceback": [
      "\u001b[1;31m---------------------------------------------------------------------------\u001b[0m",
      "\u001b[1;31mKeyboardInterrupt\u001b[0m                         Traceback (most recent call last)",
      "\u001b[1;32mc:\\Users\\hakos\\Downloads\\advml\\sudoku-solver-hakoshie\\recog_l3_test.ipynb セル 3\u001b[0m line \u001b[0;36m1\n\u001b[0;32m     <a href='vscode-notebook-cell:/c%3A/Users/hakos/Downloads/advml/sudoku-solver-hakoshie/recog_l3_test.ipynb#X11sZmlsZQ%3D%3D?line=9'>10</a>\u001b[0m \u001b[39m# ファイル名を表示する\u001b[39;00m\n\u001b[0;32m     <a href='vscode-notebook-cell:/c%3A/Users/hakos/Downloads/advml/sudoku-solver-hakoshie/recog_l3_test.ipynb#X11sZmlsZQ%3D%3D?line=10'>11</a>\u001b[0m \u001b[39m# for f in jpg_files:\u001b[39;00m\n\u001b[0;32m     <a href='vscode-notebook-cell:/c%3A/Users/hakos/Downloads/advml/sudoku-solver-hakoshie/recog_l3_test.ipynb#X11sZmlsZQ%3D%3D?line=11'>12</a>\u001b[0m \u001b[39m#     print(f)\u001b[39;00m\n\u001b[0;32m     <a href='vscode-notebook-cell:/c%3A/Users/hakos/Downloads/advml/sudoku-solver-hakoshie/recog_l3_test.ipynb#X11sZmlsZQ%3D%3D?line=12'>13</a>\u001b[0m \u001b[39mfor\u001b[39;00m file \u001b[39min\u001b[39;00m jpg_files:\n\u001b[1;32m---> <a href='vscode-notebook-cell:/c%3A/Users/hakos/Downloads/advml/sudoku-solver-hakoshie/recog_l3_test.ipynb#X11sZmlsZQ%3D%3D?line=13'>14</a>\u001b[0m     num\u001b[39m=\u001b[39mrecog_l3\u001b[39m.\u001b[39mrecognize(\u001b[39mf\u001b[39m\u001b[39m\"\u001b[39m\u001b[39m./\u001b[39m\u001b[39m{\u001b[39;00mdir_path\u001b[39m}\u001b[39;00m\u001b[39m{\u001b[39;00mfile\u001b[39m}\u001b[39;00m\u001b[39m.jpg\u001b[39m\u001b[39m\"\u001b[39m,ret_num\u001b[39m=\u001b[39m\u001b[39m1\u001b[39m,otsu_times\u001b[39m=\u001b[39motsu\u001b[39m/\u001b[39m\u001b[39m100\u001b[39m,white_thres\u001b[39m=\u001b[39m\u001b[39m250\u001b[39m,clipLimit2\u001b[39m=\u001b[39m\u001b[39m0.46\u001b[39m,tileGridSize2\u001b[39m=\u001b[39m\u001b[39m7\u001b[39m,n_dilate\u001b[39m=\u001b[39m\u001b[39m4\u001b[39m,n_erode\u001b[39m=\u001b[39m\u001b[39m3\u001b[39m,first_clahe\u001b[39m=\u001b[39m\u001b[39m1\u001b[39m,clipLimit1\u001b[39m=\u001b[39m\u001b[39m.5\u001b[39m,tileGridSize1\u001b[39m=\u001b[39m\u001b[39m95\u001b[39m,clahe_time2\u001b[39m=\u001b[39m\u001b[39m2\u001b[39m)\n\u001b[0;32m     <a href='vscode-notebook-cell:/c%3A/Users/hakos/Downloads/advml/sudoku-solver-hakoshie/recog_l3_test.ipynb#X11sZmlsZQ%3D%3D?line=14'>15</a>\u001b[0m     \u001b[39mif\u001b[39;00m num\u001b[39m==\u001b[39m\u001b[39m9\u001b[39m:\n\u001b[0;32m     <a href='vscode-notebook-cell:/c%3A/Users/hakos/Downloads/advml/sudoku-solver-hakoshie/recog_l3_test.ipynb#X11sZmlsZQ%3D%3D?line=15'>16</a>\u001b[0m         cnt\u001b[39m+\u001b[39m\u001b[39m=\u001b[39m\u001b[39m1\u001b[39m\n",
      "File \u001b[1;32mc:\\Users\\hakos\\Downloads\\advml\\sudoku-solver-hakoshie\\recog_l3.py:30\u001b[0m, in \u001b[0;36mrecognize\u001b[1;34m(image, clf, scaler, pixel, ret_img, n_open, n_close, prior_close, trim_percentage, mean_white_axis, arc_epsilon, erase_line, white_thres, otsu_times, clf_f_name, pixel_f, clf_f, scaler_f, sigmaColor, sigmaSpace, ret_num, clipLimit2, tileGridSize2, n_dilate, n_erode, plt_res2, first_clahe, clipLimit1, tileGridSize1, bilateral, mean_denoise, clahe_time1, clahe_time2)\u001b[0m\n\u001b[0;32m     24\u001b[0m     gray \u001b[39m=\u001b[39m clahe\u001b[39m.\u001b[39mapply(gray)\n\u001b[0;32m     25\u001b[0m \u001b[39m# gray = cv2.equalizeHist(gray)\u001b[39;00m\n\u001b[0;32m     26\u001b[0m \u001b[39m# ぼかし処理\u001b[39;00m\n\u001b[0;32m     27\u001b[0m \n\u001b[0;32m     28\u001b[0m \n\u001b[0;32m     29\u001b[0m \u001b[39m# gray_gb =cv2.medianBlur(gray_gb, 5)\u001b[39;00m\n\u001b[1;32m---> 30\u001b[0m gray \u001b[39m=\u001b[39m cv2\u001b[39m.\u001b[39mfastNlMeansDenoising(gray, \u001b[39mNone\u001b[39;00m, \u001b[39m10\u001b[39m, \u001b[39m7\u001b[39m, \u001b[39m21\u001b[39m)\n\u001b[0;32m     31\u001b[0m \u001b[39m# 大津の二値化\u001b[39;00m\n\u001b[0;32m     33\u001b[0m thr, binary \u001b[39m=\u001b[39m cv2\u001b[39m.\u001b[39mthreshold(gray, \u001b[39m0\u001b[39m, \u001b[39m255\u001b[39m, cv2\u001b[39m.\u001b[39mTHRESH_OTSU)\n",
      "\u001b[1;31mKeyboardInterrupt\u001b[0m: "
     ]
    }
   ],
   "source": [
    "# first clahe\n",
    "max_cnt=0\n",
    "for otsu in range(105,120,1):\n",
    "    cnt=0\n",
    "    for i in range(2,4):\n",
    "        dir_path = f\"./data/level{i}/\"\n",
    "        files = os.listdir(dir_path)\n",
    "        # jpgファイルのみを取得する\n",
    "        jpg_files = [os.path.splitext(f)[0] for f in files if f.endswith('.jpg')]\n",
    "        # ファイル名を表示する\n",
    "        # for f in jpg_files:\n",
    "        #     print(f)\n",
    "        for file in jpg_files:\n",
    "            num=recog_l3.recognize(f\"./{dir_path}{file}.jpg\",ret_num=1,otsu_times=otsu/100,white_thres=250,clipLimit2=0.46,tileGridSize2=7,n_dilate=4,n_erode=3,first_clahe=1,clipLimit1=.5,tileGridSize1=95,clahe_time2=2)\n",
    "            if num==9:\n",
    "                cnt+=1\n",
    "    if cnt>=max_cnt:\n",
    "        print(f\"otsu:{otsu/100},oks:{cnt}\")\n",
    "        max_cnt=cnt"
   ]
  },
  {
   "cell_type": "code",
   "execution_count": 12,
   "metadata": {},
   "outputs": [
    {
     "name": "stdout",
     "output_type": "stream",
     "text": [
      "clip:0.5 grid:50 clahe_t:1 oks:7\n",
      "clip:0.5 grid:55 clahe_t:1 oks:7\n",
      "clip:0.5 grid:65 clahe_t:1 oks:7\n",
      "clip:0.5 grid:75 clahe_t:1 oks:8\n",
      "clip:0.5 grid:85 clahe_t:1 oks:8\n",
      "clip:0.5 grid:90 clahe_t:1 oks:8\n",
      "clip:0.5 grid:95 clahe_t:1 oks:9\n",
      "clip:1.0 grid:95 clahe_t:1 oks:9\n",
      "clip:1.5 grid:95 clahe_t:1 oks:9\n"
     ]
    }
   ],
   "source": [
    "# first clahe\n",
    "max_cnt=0\n",
    "for k in range(5,21,5):\n",
    "    for time in range(1,2):\n",
    "        for grid in range(50,120,5):\n",
    "            cnt=0\n",
    "            for i in range(2,4):\n",
    "                dir_path = f\"./data/level{i}/\"\n",
    "                files = os.listdir(dir_path)\n",
    "                # jpgファイルのみを取得する\n",
    "                jpg_files = [os.path.splitext(f)[0] for f in files if f.endswith('.jpg')]\n",
    "                # ファイル名を表示する\n",
    "                # for f in jpg_files:\n",
    "                #     print(f)\n",
    "                for file in jpg_files:\n",
    "                    num=recog_l3.recognize(f\"./{dir_path}{file}.jpg\",ret_num=1,otsu_times=1.05,white_thres=250,clipLimit2=0.46,tileGridSize2=7,n_dilate=4,n_erode=3,first_clahe=1,clipLimit1=k/10,tileGridSize1=grid,clahe_time2=2,clahe_time1=time)\n",
    "                    if num==9:\n",
    "                        cnt+=1\n",
    "            if cnt>=max_cnt:\n",
    "                print(f\"clip:{k/10} grid:{grid} clahe_t:{time} oks:{cnt}\")\n",
    "                max_cnt=cnt"
   ]
  },
  {
   "cell_type": "code",
   "execution_count": 26,
   "metadata": {},
   "outputs": [
    {
     "name": "stdout",
     "output_type": "stream",
     "text": [
      "0.4 5 1 6\n",
      "0.4 9 1 6\n",
      "0.4 10 1 6\n",
      "0.4 5 2 6\n",
      "0.4 6 2 6\n",
      "0.4 7 2 7\n",
      "0.4 8 2 7\n",
      "0.4 5 3 7\n",
      "0.4 7 3 7\n",
      "0.4 10 4 7\n",
      "0.43 5 1 7\n",
      "0.43 6 2 7\n",
      "0.43 7 2 8\n",
      "0.46 6 2 8\n",
      "0.46 7 2 8\n",
      "0.49 7 2 8\n"
     ]
    }
   ],
   "source": [
    "# second clahe\n",
    "max_cnt=0\n",
    "for k in range(40,60,3):\n",
    "    for time in range(1,5):\n",
    "        for grid in range(5,10+1):\n",
    "            cnt=0\n",
    "            for i in range(2,4):\n",
    "                dir_path = f\"./data/level{i}/\"\n",
    "                files = os.listdir(dir_path)\n",
    "                # jpgファイルのみを取得する\n",
    "                jpg_files = [os.path.splitext(f)[0] for f in files if f.endswith('.jpg')]\n",
    "                # ファイル名を表示する\n",
    "                # for f in jpg_files:\n",
    "                #     print(f)\n",
    "                for file in jpg_files:\n",
    "                    num=recog_l3.recognize(f\"./{dir_path}{file}.jpg\",ret_num=1,otsu_times=1.05,white_thres=250,clipLimit2=k/100,tileGridSize2=grid,n_dilate=1,n_erode=1,first_clahe=1,clipLimit1=.5,tileGridSize1=75,clahe_time=time)\n",
    "                    if num==9:\n",
    "                        cnt+=1\n",
    "            if cnt>=max_cnt:\n",
    "                print(\"clip\",k/100,\"g\",grid,\"clahe\",time,cnt)\n",
    "                max_cnt=cnt"
   ]
  },
  {
   "cell_type": "code",
   "execution_count": 3,
   "metadata": {},
   "outputs": [
    {
     "name": "stdout",
     "output_type": "stream",
     "text": [
      "sample 0\n",
      "sudoku_026 4\n",
      "sudoku_027 4\n",
      "sudoku_028 4\n",
      "sudoku_029 4\n",
      "sudoku_030 4\n",
      "sample 2\n",
      "sudoku_00026 9\n",
      "sudoku_00027 -1\n",
      "sudoku_00028 -1\n",
      "sudoku_00030 -1\n",
      "sudoku_00031 9\n",
      "sample 7\n",
      "sudoku_00011 9\n",
      "sudoku_00012 -1\n",
      "sudoku_00013 9\n",
      "sudoku_00014 9\n",
      "sudoku_00015 6\n"
     ]
    },
    {
     "data": {
      "text/plain": [
       "4.222222222222222"
      ]
     },
     "execution_count": 3,
     "metadata": {},
     "output_type": "execute_result"
    }
   ],
   "source": [
    "scores = []\n",
    "for i in range(1,4):\n",
    "    dir_path = f\"./data/level{i}/\"\n",
    "    files = os.listdir(dir_path)\n",
    "    # jpgファイルのみを取得する\n",
    "    jpg_files = [os.path.splitext(f)[0] for f in files if f.endswith('.jpg')]\n",
    "    # ファイル名を表示する\n",
    "    # for f in jpg_files:\n",
    "    #     print(f)\n",
    "    \n",
    "    for file in jpg_files:\n",
    "        score=recog_l3.recognize(f\"./{dir_path}{file}.jpg\",ret_num=1,otsu_times=1.05,white_thres=250,clipLimit2=2,tileGridSize2=50,n_dilate=3,n_erode=2,first_clahe=1,clipLimit1=.5,tileGridSize1=75,bilateral=1)\n",
    "        print(file,score)\n",
    "        scores.append(score)\n",
    "np.mean(scores)"
   ]
  },
  {
   "cell_type": "code",
   "execution_count": 5,
   "metadata": {},
   "outputs": [
    {
     "name": "stdout",
     "output_type": "stream",
     "text": [
      "0 0 1.5 1\n",
      "0 1 1.7777777777777777 0\n",
      "0 2 1.6111111111111112 1\n",
      "0 3 1.5 1\n",
      "0 4 1.5555555555555556 1\n",
      "1 0 2.1666666666666665 2\n",
      "1 1 2.2222222222222223 0\n",
      "1 2 2.0555555555555554 1\n",
      "1 3 2.0 1\n",
      "1 4 2.0 1\n",
      "2 0 3.0 5\n",
      "2 1 2.7777777777777777 5\n",
      "2 2 2.7777777777777777 4\n",
      "2 3 2.7222222222222223 4\n",
      "2 4 2.7222222222222223 4\n",
      "3 0 4.444444444444445 3\n",
      "3 1 4.5 3\n",
      "3 2 4.444444444444445 2\n",
      "3 3 4.444444444444445 2\n",
      "3 4 4.333333333333333 2\n",
      "4 0 3.6666666666666665 5\n",
      "4 1 3.6666666666666665 4\n",
      "4 2 3.4444444444444446 5\n",
      "4 3 3.3333333333333335 4\n",
      "4 4 3.3333333333333335 4\n"
     ]
    }
   ],
   "source": [
    "param_list1=[0,1,2,3,4]\n",
    "param_list2=[0,1,2,3,4]\n",
    "for param1 in param_list1:\n",
    "    for param2 in param_list2:\n",
    "        scores = []\n",
    "        for i in range(1,4):\n",
    "            dir_path = f\"./data/level{i}/\"\n",
    "            files = os.listdir(dir_path)\n",
    "            # jpgファイルのみを取得する\n",
    "            jpg_files = [os.path.splitext(f)[0] for f in files if f.endswith('.jpg')]\n",
    "            # ファイル名を表示する\n",
    "            # for f in jpg_files:\n",
    "            #     print(f)\n",
    "            for file in jpg_files:\n",
    "                # print(file,recog_l3.recognize(f\"./{dir_path}{file}.jpg\",ret_num=1,otsu_times=1.05,white_thres=250,clipLimit2=2,tileGridSize2=50,n_dilate=3,n_erode=2,first_clahe=1,clipLimit1=.5,tileGridSize1=100,bilateral=1))\n",
    "                score=recog_l3.recognize(f\"./{dir_path}{file}.jpg\",ret_num=1,otsu_times=1.05,white_thres=250,clipLimit2=.2,tileGridSize2=50,n_dilate=param1,n_erode=param2,first_clahe=1,clipLimit1=.5,tileGridSize1=100,bilateral=1)\n",
    "                scores.append(score)\n",
    "        print(param1,param2,'{:.2f}'.format(np.mean(scores)),scores.count(9))"
   ]
  },
  {
   "cell_type": "code",
   "execution_count": 5,
   "metadata": {},
   "outputs": [
    {
     "name": "stdout",
     "output_type": "stream",
     "text": [
      "0.5 0.5 4.44 2\n",
      "0.5 1 4.44 2\n",
      "0.5 2 4.39 2\n",
      "0.5 3 4.39 2\n",
      "0.5 4 4.39 2\n",
      "1 0.5 4.28 2\n",
      "1 1 4.28 2\n",
      "1 2 4.22 2\n",
      "1 3 4.22 2\n",
      "1 4 4.22 2\n",
      "2 0.5 4.00 5\n",
      "2 1 4.00 5\n",
      "2 2 4.00 5\n",
      "2 3 4.00 5\n",
      "2 4 4.00 5\n",
      "3 0.5 3.39 4\n",
      "3 1 3.39 4\n",
      "3 2 3.39 4\n",
      "3 3 3.39 4\n",
      "3 4 3.39 4\n",
      "4 0.5 2.89 1\n",
      "4 1 2.89 1\n",
      "4 2 2.83 1\n",
      "4 3 2.83 1\n",
      "4 4 2.83 1\n"
     ]
    }
   ],
   "source": [
    "param_list1=[0.5,1,2,3,4]\n",
    "param_list2=[0.5,1,2,3,4]\n",
    "for param1 in param_list1:\n",
    "    for param2 in param_list2:\n",
    "        scores = []\n",
    "        for i in range(1,4):\n",
    "            dir_path = f\"./data/level{i}/\"\n",
    "            files = os.listdir(dir_path)\n",
    "            # jpgファイルのみを取得する\n",
    "            jpg_files = [os.path.splitext(f)[0] for f in files if f.endswith('.jpg')]\n",
    "            # ファイル名を表示する\n",
    "            # for f in jpg_files:\n",
    "            #     print(f)\n",
    "            for file in jpg_files:\n",
    "                score=recog_l3.recognize(f\"./{dir_path}{file}.jpg\",ret_num=1,otsu_times=1.05,white_thres=250,clipLimit2=param1,tileGridSize2=50,n_dilate=3,n_erode=2,first_clahe=1,clipLimit1=param2,tileGridSize1=100,bilateral=1)\n",
    "                # print(file,recog_l3.recognize(f\"./{dir_path}{file}.jpg\",ret_num=1,otsu_times=1.05,white_thres=250,clipLimit2=2,tileGridSize2=50,n_dilate=3,n_erode=2,first_clahe=1,clipLimit1=.5,tileGridSize1=100,bilateral=1))\n",
    "                scores.append(score)\n",
    "        print(param1,param2,'{:.2f}'.format(np.mean(scores)),scores.count(9))"
   ]
  },
  {
   "cell_type": "code",
   "execution_count": 4,
   "metadata": {},
   "outputs": [
    {
     "name": "stdout",
     "output_type": "stream",
     "text": [
      "10 10 2.94 2\n",
      "10 50 3.00 2\n",
      "10 75 3.39 1\n",
      "10 100 3.17 2\n",
      "50 10 3.78 4\n",
      "50 50 3.78 3\n",
      "50 75 4.22 5\n",
      "50 100 4.00 5\n",
      "75 10 3.67 4\n",
      "75 50 3.72 4\n",
      "75 75 4.00 4\n",
      "75 100 4.00 4\n",
      "100 10 3.56 4\n",
      "100 50 3.61 4\n",
      "100 75 4.11 4\n",
      "100 100 3.83 3\n"
     ]
    }
   ],
   "source": [
    "param_list1=[10,50,75,100]\n",
    "param_list2=[10,50,75,100]\n",
    "for param1 in param_list1:\n",
    "    for param2 in param_list2:\n",
    "        scores = []\n",
    "        for i in range(1,4):\n",
    "            dir_path = f\"./data/level{i}/\"\n",
    "            files = os.listdir(dir_path)\n",
    "            # jpgファイルのみを取得する\n",
    "            jpg_files = [os.path.splitext(f)[0] for f in files if f.endswith('.jpg')]\n",
    "            # ファイル名を表示する\n",
    "            # for f in jpg_files:\n",
    "            #     print(f)\n",
    "            for file in jpg_files:\n",
    "                score=recog_l3.recognize(f\"./{dir_path}{file}.jpg\",ret_num=1,otsu_times=1.05,white_thres=250,clipLimit2=2,tileGridSize2=param1,n_dilate=3,n_erode=2,first_clahe=1,clipLimit1=.2,tileGridSize1=param2,bilateral=1)\n",
    "                # print(file,recog_l3.recognize(f\"./{dir_path}{file}.jpg\",ret_num=1,otsu_times=1.05,white_thres=250,clipLimit2=2,tileGridSize2=50,n_dilate=3,n_erode=2,first_clahe=1,clipLimit1=.5,tileGridSize1=100,bilateral=1))\n",
    "                scores.append(score)\n",
    "        print(param1,param2,'{:.2f}'.format(np.mean(scores)),scores.count(9))"
   ]
  }
 ],
 "metadata": {
  "kernelspec": {
   "display_name": "Python 3 (ipykernel)",
   "language": "python",
   "name": "python3"
  },
  "language_info": {
   "codemirror_mode": {
    "name": "ipython",
    "version": 3
   },
   "file_extension": ".py",
   "mimetype": "text/x-python",
   "name": "python",
   "nbconvert_exporter": "python",
   "pygments_lexer": "ipython3",
   "version": "3.11.5"
  }
 },
 "nbformat": 4,
 "nbformat_minor": 4
}
