{
 "cells": [
  {
   "cell_type": "code",
   "execution_count": 1,
   "metadata": {},
   "outputs": [],
   "source": [
    "import cv2\n",
    "import numpy as np\n",
    "import matplotlib.pyplot as plt\n",
    "import pandas as pd\n",
    "import pickle\n",
    "import recog_l3\n",
    "import os "
   ]
  },
  {
   "cell_type": "code",
   "execution_count": 20,
   "metadata": {},
   "outputs": [
    {
     "name": "stdout",
     "output_type": "stream",
     "text": [
      "sample 0\n",
      "sudoku_026 4\n",
      "sudoku_027 4\n",
      "sudoku_028 4\n",
      "sudoku_029 4\n",
      "sudoku_030 4\n",
      "sample 2\n",
      "sudoku_00026 9\n",
      "sudoku_00027 None\n",
      "sudoku_00028 None\n",
      "sudoku_00030 None\n",
      "sudoku_00031 9\n",
      "sample 7\n",
      "sudoku_00011 9\n",
      "sudoku_00012 2\n",
      "sudoku_00013 9\n",
      "sudoku_00014 9\n",
      "sudoku_00015 None\n"
     ]
    }
   ],
   "source": [
    "for i in range(1,4):\n",
    "    dir_path = f\"./data/level{i}/\"\n",
    "    files = os.listdir(dir_path)\n",
    "    # jpgファイルのみを取得する\n",
    "    jpg_files = [os.path.splitext(f)[0] for f in files if f.endswith('.jpg')]\n",
    "    # ファイル名を表示する\n",
    "    # for f in jpg_files:\n",
    "    #     print(f)\n",
    "    for file in jpg_files:\n",
    "        print(file,recog_l3.recognize(f\"./{dir_path}{file}.jpg\",ret_num=1,otsu_times=1.05,white_thres=250,clipLimit2=2,tileGridSize2=50,n_dilate=3,n_erode=2,first_claphe=1,clipLimit1=.5,tileGridSize1=100,bilateral=1))"
   ]
  }
 ],
 "metadata": {
  "kernelspec": {
   "display_name": "Python 3 (ipykernel)",
   "language": "python",
   "name": "python3"
  },
  "language_info": {
   "codemirror_mode": {
    "name": "ipython",
    "version": 3
   },
   "file_extension": ".py",
   "mimetype": "text/x-python",
   "name": "python",
   "nbconvert_exporter": "python",
   "pygments_lexer": "ipython3",
   "version": "3.11.5"
  }
 },
 "nbformat": 4,
 "nbformat_minor": 4
}
