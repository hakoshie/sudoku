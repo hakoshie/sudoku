{
 "cells": [
  {
   "cell_type": "code",
   "execution_count": 1,
   "metadata": {},
   "outputs": [],
   "source": [
    "import cv2\n",
    "import numpy as np\n",
    "import matplotlib.pyplot as plt\n",
    "import pandas as pd\n",
    "import pickle\n",
    "import recog_l3\n",
    "import os "
   ]
  },
  {
   "cell_type": "code",
   "execution_count": 2,
   "metadata": {},
   "outputs": [
    {
     "name": "stdout",
     "output_type": "stream",
     "text": [
      "sample 0\n",
      "sudoku_026 1\n",
      "sudoku_027 1\n",
      "sudoku_028 1\n",
      "sudoku_029 1\n",
      "sudoku_030 1\n",
      "sample 1\n",
      "sudoku_00026 5\n",
      "sudoku_00027 -1\n",
      "sudoku_00028 -1\n",
      "sudoku_00030 -1\n",
      "sudoku_00031 7\n",
      "sample 9\n",
      "sudoku_00011 9\n",
      "sudoku_00012 0\n",
      "sudoku_00013 9\n",
      "sudoku_00014 9\n",
      "sudoku_00015 -1\n"
     ]
    },
    {
     "data": {
      "text/plain": [
       "2.7777777777777777"
      ]
     },
     "execution_count": 2,
     "metadata": {},
     "output_type": "execute_result"
    }
   ],
   "source": [
    "scores = []\n",
    "for i in range(1,4):\n",
    "    dir_path = f\"./data/level{i}/\"\n",
    "    files = os.listdir(dir_path)\n",
    "    # jpgファイルのみを取得する\n",
    "    jpg_files = [os.path.splitext(f)[0] for f in files if f.endswith('.jpg')]\n",
    "    # ファイル名を表示する\n",
    "    # for f in jpg_files:\n",
    "    #     print(f)\n",
    "    \n",
    "    for file in jpg_files:\n",
    "        score=recog_l3.recognize(f\"./{dir_path}{file}.jpg\",ret_num=1,otsu_times=1.05,white_thres=250,clipLimit2=4,tileGridSize2=50,n_dilate=4,n_erode=3,first_clahe=1,clipLimit1=1.5,tileGridSize1=100,bilateral=1,mean_denoise=1)\n",
    "        print(file,score)\n",
    "        scores.append(score)\n",
    "np.mean(scores)"
   ]
  },
  {
   "cell_type": "code",
   "execution_count": 3,
   "metadata": {},
   "outputs": [
    {
     "name": "stdout",
     "output_type": "stream",
     "text": [
      "sample 0\n",
      "sudoku_026 4\n",
      "sudoku_027 4\n",
      "sudoku_028 4\n",
      "sudoku_029 4\n",
      "sudoku_030 4\n",
      "sample 2\n",
      "sudoku_00026 9\n",
      "sudoku_00027 -1\n",
      "sudoku_00028 -1\n",
      "sudoku_00030 -1\n",
      "sudoku_00031 9\n",
      "sample 7\n",
      "sudoku_00011 9\n",
      "sudoku_00012 -1\n",
      "sudoku_00013 9\n",
      "sudoku_00014 9\n",
      "sudoku_00015 6\n"
     ]
    },
    {
     "data": {
      "text/plain": [
       "4.222222222222222"
      ]
     },
     "execution_count": 3,
     "metadata": {},
     "output_type": "execute_result"
    }
   ],
   "source": [
    "scores = []\n",
    "for i in range(1,4):\n",
    "    dir_path = f\"./data/level{i}/\"\n",
    "    files = os.listdir(dir_path)\n",
    "    # jpgファイルのみを取得する\n",
    "    jpg_files = [os.path.splitext(f)[0] for f in files if f.endswith('.jpg')]\n",
    "    # ファイル名を表示する\n",
    "    # for f in jpg_files:\n",
    "    #     print(f)\n",
    "    \n",
    "    for file in jpg_files:\n",
    "        score=recog_l3.recognize(f\"./{dir_path}{file}.jpg\",ret_num=1,otsu_times=1.05,white_thres=250,clipLimit2=2,tileGridSize2=50,n_dilate=3,n_erode=2,first_clahe=1,clipLimit1=.5,tileGridSize1=75,bilateral=1)\n",
    "        print(file,score)\n",
    "        scores.append(score)\n",
    "np.mean(scores)"
   ]
  },
  {
   "cell_type": "code",
   "execution_count": 5,
   "metadata": {},
   "outputs": [
    {
     "name": "stdout",
     "output_type": "stream",
     "text": [
      "0 0 1.5 1\n",
      "0 1 1.7777777777777777 0\n",
      "0 2 1.6111111111111112 1\n",
      "0 3 1.5 1\n",
      "0 4 1.5555555555555556 1\n",
      "1 0 2.1666666666666665 2\n",
      "1 1 2.2222222222222223 0\n",
      "1 2 2.0555555555555554 1\n",
      "1 3 2.0 1\n",
      "1 4 2.0 1\n",
      "2 0 3.0 5\n",
      "2 1 2.7777777777777777 5\n",
      "2 2 2.7777777777777777 4\n",
      "2 3 2.7222222222222223 4\n",
      "2 4 2.7222222222222223 4\n",
      "3 0 4.444444444444445 3\n",
      "3 1 4.5 3\n",
      "3 2 4.444444444444445 2\n",
      "3 3 4.444444444444445 2\n",
      "3 4 4.333333333333333 2\n",
      "4 0 3.6666666666666665 5\n",
      "4 1 3.6666666666666665 4\n",
      "4 2 3.4444444444444446 5\n",
      "4 3 3.3333333333333335 4\n",
      "4 4 3.3333333333333335 4\n"
     ]
    }
   ],
   "source": [
    "param_list1=[0,1,2,3,4]\n",
    "param_list2=[0,1,2,3,4]\n",
    "for param1 in param_list1:\n",
    "    for param2 in param_list2:\n",
    "        scores = []\n",
    "        for i in range(1,4):\n",
    "            dir_path = f\"./data/level{i}/\"\n",
    "            files = os.listdir(dir_path)\n",
    "            # jpgファイルのみを取得する\n",
    "            jpg_files = [os.path.splitext(f)[0] for f in files if f.endswith('.jpg')]\n",
    "            # ファイル名を表示する\n",
    "            # for f in jpg_files:\n",
    "            #     print(f)\n",
    "            for file in jpg_files:\n",
    "                # print(file,recog_l3.recognize(f\"./{dir_path}{file}.jpg\",ret_num=1,otsu_times=1.05,white_thres=250,clipLimit2=2,tileGridSize2=50,n_dilate=3,n_erode=2,first_clahe=1,clipLimit1=.5,tileGridSize1=100,bilateral=1))\n",
    "                score=recog_l3.recognize(f\"./{dir_path}{file}.jpg\",ret_num=1,otsu_times=1.05,white_thres=250,clipLimit2=.2,tileGridSize2=50,n_dilate=param1,n_erode=param2,first_clahe=1,clipLimit1=.5,tileGridSize1=100,bilateral=1)\n",
    "                scores.append(score)\n",
    "        print(param1,param2,'{:.2f}'.format(np.mean(scores)),scores.count(9))"
   ]
  },
  {
   "cell_type": "code",
   "execution_count": 5,
   "metadata": {},
   "outputs": [
    {
     "name": "stdout",
     "output_type": "stream",
     "text": [
      "0.5 0.5 4.44 2\n",
      "0.5 1 4.44 2\n",
      "0.5 2 4.39 2\n",
      "0.5 3 4.39 2\n",
      "0.5 4 4.39 2\n",
      "1 0.5 4.28 2\n",
      "1 1 4.28 2\n",
      "1 2 4.22 2\n",
      "1 3 4.22 2\n",
      "1 4 4.22 2\n",
      "2 0.5 4.00 5\n",
      "2 1 4.00 5\n",
      "2 2 4.00 5\n",
      "2 3 4.00 5\n",
      "2 4 4.00 5\n",
      "3 0.5 3.39 4\n",
      "3 1 3.39 4\n",
      "3 2 3.39 4\n",
      "3 3 3.39 4\n",
      "3 4 3.39 4\n",
      "4 0.5 2.89 1\n",
      "4 1 2.89 1\n",
      "4 2 2.83 1\n",
      "4 3 2.83 1\n",
      "4 4 2.83 1\n"
     ]
    }
   ],
   "source": [
    "param_list1=[0.5,1,2,3,4]\n",
    "param_list2=[0.5,1,2,3,4]\n",
    "for param1 in param_list1:\n",
    "    for param2 in param_list2:\n",
    "        scores = []\n",
    "        for i in range(1,4):\n",
    "            dir_path = f\"./data/level{i}/\"\n",
    "            files = os.listdir(dir_path)\n",
    "            # jpgファイルのみを取得する\n",
    "            jpg_files = [os.path.splitext(f)[0] for f in files if f.endswith('.jpg')]\n",
    "            # ファイル名を表示する\n",
    "            # for f in jpg_files:\n",
    "            #     print(f)\n",
    "            for file in jpg_files:\n",
    "                score=recog_l3.recognize(f\"./{dir_path}{file}.jpg\",ret_num=1,otsu_times=1.05,white_thres=250,clipLimit2=param1,tileGridSize2=50,n_dilate=3,n_erode=2,first_clahe=1,clipLimit1=param2,tileGridSize1=100,bilateral=1)\n",
    "                # print(file,recog_l3.recognize(f\"./{dir_path}{file}.jpg\",ret_num=1,otsu_times=1.05,white_thres=250,clipLimit2=2,tileGridSize2=50,n_dilate=3,n_erode=2,first_clahe=1,clipLimit1=.5,tileGridSize1=100,bilateral=1))\n",
    "                scores.append(score)\n",
    "        print(param1,param2,'{:.2f}'.format(np.mean(scores)),scores.count(9))"
   ]
  },
  {
   "cell_type": "code",
   "execution_count": 4,
   "metadata": {},
   "outputs": [
    {
     "name": "stdout",
     "output_type": "stream",
     "text": [
      "10 10 2.94 2\n",
      "10 50 3.00 2\n",
      "10 75 3.39 1\n",
      "10 100 3.17 2\n",
      "50 10 3.78 4\n",
      "50 50 3.78 3\n",
      "50 75 4.22 5\n",
      "50 100 4.00 5\n",
      "75 10 3.67 4\n",
      "75 50 3.72 4\n",
      "75 75 4.00 4\n",
      "75 100 4.00 4\n",
      "100 10 3.56 4\n",
      "100 50 3.61 4\n",
      "100 75 4.11 4\n",
      "100 100 3.83 3\n"
     ]
    }
   ],
   "source": [
    "param_list1=[10,50,75,100]\n",
    "param_list2=[10,50,75,100]\n",
    "for param1 in param_list1:\n",
    "    for param2 in param_list2:\n",
    "        scores = []\n",
    "        for i in range(1,4):\n",
    "            dir_path = f\"./data/level{i}/\"\n",
    "            files = os.listdir(dir_path)\n",
    "            # jpgファイルのみを取得する\n",
    "            jpg_files = [os.path.splitext(f)[0] for f in files if f.endswith('.jpg')]\n",
    "            # ファイル名を表示する\n",
    "            # for f in jpg_files:\n",
    "            #     print(f)\n",
    "            for file in jpg_files:\n",
    "                score=recog_l3.recognize(f\"./{dir_path}{file}.jpg\",ret_num=1,otsu_times=1.05,white_thres=250,clipLimit2=2,tileGridSize2=param1,n_dilate=3,n_erode=2,first_clahe=1,clipLimit1=.2,tileGridSize1=param2,bilateral=1)\n",
    "                # print(file,recog_l3.recognize(f\"./{dir_path}{file}.jpg\",ret_num=1,otsu_times=1.05,white_thres=250,clipLimit2=2,tileGridSize2=50,n_dilate=3,n_erode=2,first_clahe=1,clipLimit1=.5,tileGridSize1=100,bilateral=1))\n",
    "                scores.append(score)\n",
    "        print(param1,param2,'{:.2f}'.format(np.mean(scores)),scores.count(9))"
   ]
  }
 ],
 "metadata": {
  "kernelspec": {
   "display_name": "Python 3 (ipykernel)",
   "language": "python",
   "name": "python3"
  },
  "language_info": {
   "codemirror_mode": {
    "name": "ipython",
    "version": 3
   },
   "file_extension": ".py",
   "mimetype": "text/x-python",
   "name": "python",
   "nbconvert_exporter": "python",
   "pygments_lexer": "ipython3",
   "version": "3.11.5"
  }
 },
 "nbformat": 4,
 "nbformat_minor": 4
}
