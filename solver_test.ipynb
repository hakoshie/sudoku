{
 "cells": [
  {
   "cell_type": "code",
   "execution_count": 14,
   "metadata": {},
   "outputs": [],
   "source": [
    "import recognize\n",
    "import sudoku_solver"
   ]
  },
  {
   "cell_type": "code",
   "execution_count": 15,
   "metadata": {},
   "outputs": [
    {
     "data": {
      "text/plain": [
       "[[5, 3, 0, 0, 7, 0, 0, 0, 0],\n",
       " [6, 0, 0, 1, 9, 5, 0, 0, 0],\n",
       " [0, 9, 8, 0, 0, 0, 0, 6, 0],\n",
       " [8, 0, 0, 0, 6, 0, 0, 0, 3],\n",
       " [4, 0, 0, 8, 0, 3, 0, 0, 1],\n",
       " [7, 0, 0, 0, 2, 0, 0, 0, 6],\n",
       " [0, 6, 0, 0, 0, 0, 2, 8, 0],\n",
       " [0, 0, 0, 4, 1, 9, 0, 0, 5],\n",
       " [0, 0, 0, 0, 8, 0, 8, 7, 9]]"
      ]
     },
     "execution_count": 15,
     "metadata": {},
     "output_type": "execute_result"
    }
   ],
   "source": [
    " grid = [\n",
    " [5, 3, 0, 0, 7, 0, 0, 0, 0],\n",
    " [6, 0, 0, 1, 9, 5, 0, 0, 0],\n",
    " [0, 9, 8, 0, 0, 0, 0, 6, 0],\n",
    " [8, 0, 0, 0, 6, 0, 0, 0, 3],\n",
    " [4, 0, 0, 8, 0, 3, 0, 0, 1],\n",
    " [7, 0, 0, 0, 2, 0, 0, 0, 6],\n",
    " [0, 6, 0, 0, 0, 0, 2, 8, 0],\n",
    " [0, 0, 0, 4, 1, 9, 0, 0, 5],\n",
    " [0, 0, 0, 0, 8, 0, 8, 7, 9]]\n",
    "grid"
   ]
  },
  {
   "cell_type": "code",
   "execution_count": 16,
   "metadata": {},
   "outputs": [
    {
     "ename": "KeyError",
     "evalue": "('rn', (8, 8))",
     "output_type": "error",
     "traceback": [
      "\u001b[1;31m---------------------------------------------------------------------------\u001b[0m",
      "\u001b[1;31mKeyError\u001b[0m                                  Traceback (most recent call last)",
      "\u001b[1;32mc:\\Users\\hakos\\Downloads\\advml\\sudoku-solver-hakoshie\\sudoku_test.ipynb セル 3\u001b[0m line \u001b[0;36m1\n\u001b[1;32m----> <a href='vscode-notebook-cell:/c%3A/Users/hakos/Downloads/advml/sudoku-solver-hakoshie/sudoku_test.ipynb#W2sZmlsZQ%3D%3D?line=0'>1</a>\u001b[0m \u001b[39mfor\u001b[39;00m i,solution \u001b[39min\u001b[39;00m \u001b[39menumerate\u001b[39m(sudoku_solver\u001b[39m.\u001b[39msolve_sudoku((\u001b[39m3\u001b[39m,\u001b[39m3\u001b[39m),grid)):\n\u001b[0;32m      <a href='vscode-notebook-cell:/c%3A/Users/hakos/Downloads/advml/sudoku-solver-hakoshie/sudoku_test.ipynb#W2sZmlsZQ%3D%3D?line=1'>2</a>\u001b[0m     \u001b[39mprint\u001b[39m(\u001b[39mtype\u001b[39m(solution),i)\n",
      "File \u001b[1;32mc:\\Users\\hakos\\Downloads\\advml\\sudoku-solver-hakoshie\\sudoku_solver.py:51\u001b[0m, in \u001b[0;36msolve_sudoku\u001b[1;34m(size, grid)\u001b[0m\n\u001b[0;32m     49\u001b[0m     \u001b[39mfor\u001b[39;00m j, n \u001b[39min\u001b[39;00m \u001b[39menumerate\u001b[39m(row):\n\u001b[0;32m     50\u001b[0m         \u001b[39mif\u001b[39;00m n:\n\u001b[1;32m---> 51\u001b[0m             select(X, Y, (i, j, n))\n\u001b[0;32m     52\u001b[0m \u001b[39mfor\u001b[39;00m solution \u001b[39min\u001b[39;00m solve(X, Y, []):\n\u001b[0;32m     53\u001b[0m     \u001b[39mfor\u001b[39;00m (r, c, n) \u001b[39min\u001b[39;00m solution:\n",
      "File \u001b[1;32mc:\\Users\\hakos\\Downloads\\advml\\sudoku-solver-hakoshie\\sudoku_solver.py:80\u001b[0m, in \u001b[0;36mselect\u001b[1;34m(X, Y, r)\u001b[0m\n\u001b[0;32m     78\u001b[0m cols \u001b[39m=\u001b[39m []\n\u001b[0;32m     79\u001b[0m \u001b[39mfor\u001b[39;00m j \u001b[39min\u001b[39;00m Y[r]:\n\u001b[1;32m---> 80\u001b[0m     \u001b[39mfor\u001b[39;00m i \u001b[39min\u001b[39;00m X[j]:\n\u001b[0;32m     81\u001b[0m         \u001b[39mfor\u001b[39;00m k \u001b[39min\u001b[39;00m Y[i]:\n\u001b[0;32m     82\u001b[0m             \u001b[39mif\u001b[39;00m k \u001b[39m!=\u001b[39m j:\n",
      "\u001b[1;31mKeyError\u001b[0m: ('rn', (8, 8))"
     ]
    }
   ],
   "source": [
    "for i,solution in enumerate(sudoku_solver.solve_sudoku((3,3),grid)):\n",
    "    print(type(solution),i)"
   ]
  }
 ],
 "metadata": {
  "kernelspec": {
   "display_name": "advml",
   "language": "python",
   "name": "python3"
  },
  "language_info": {
   "codemirror_mode": {
    "name": "ipython",
    "version": 3
   },
   "file_extension": ".py",
   "mimetype": "text/x-python",
   "name": "python",
   "nbconvert_exporter": "python",
   "pygments_lexer": "ipython3",
   "version": "3.11.5"
  }
 },
 "nbformat": 4,
 "nbformat_minor": 2
}
