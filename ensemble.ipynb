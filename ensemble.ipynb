{
 "cells": [
  {
   "cell_type": "code",
   "execution_count": 9,
   "metadata": {},
   "outputs": [],
   "source": [
    "%reload_ext autoreload\n",
    "%autoreload 2\n",
    "import cv2\n",
    "import numpy as np\n",
    "import matplotlib.pyplot as plt\n",
    "import pandas as pd\n",
    "import os\n",
    "import random\n",
    "import warnings\n",
    "from itertools import product\n",
    "import numpy as np\n",
    "import pandas as pd\n",
    "import seaborn as sns\n",
    "import matplotlib\n",
    "import matplotlib.pyplot as plt\n",
    "from IPython import display\n",
    "from tqdm.notebook import tqdm\n",
    "from sklearn.exceptions import ConvergenceWarning\n",
    "from sklearn import model_selection\n",
    "from sklearn.preprocessing import StandardScaler\n",
    "from sklearn.linear_model import LogisticRegression\n",
    "from sklearn.ensemble import RandomForestClassifier\n",
    "from sklearn.neighbors import KNeighborsClassifier\n",
    "from sklearn.ensemble import AdaBoostClassifier\n",
    "from sklearn.svm import SVC\n",
    "from sklearn.ensemble import VotingClassifier\n",
    "from sklearn import model_selection\n",
    "from sklearn.preprocessing import StandardScaler"
   ]
  },
  {
   "cell_type": "code",
   "execution_count": 10,
   "metadata": {},
   "outputs": [],
   "source": [
    "Xs=[]\n",
    "Ys=[]\n",
    "def load_data(data_name,N,M,K,pixel):\n",
    "    for i in range(K):\n",
    "        id=random.randint(0,K)\n",
    "        img=cv2.imread(f'./training_data/{data_name}/numbers_{id}.png')\n",
    "        numbers=np.load(f'./training_data/{data_name}/numbers_{id}.npy')\n",
    "        img = cv2.cvtColor(img, cv2.COLOR_BGR2RGB)\n",
    "        # plt.imshow(img, cmap='gray')\n",
    "        gray = cv2.cvtColor(img, cv2.COLOR_RGB2GRAY)\n",
    "\n",
    "        # plt.imshow(img, cmap='gray')\n",
    "        # print(img.shape)\n",
    "        img_rs=cv2.resize(gray,(pixel*M,pixel*N),interpolation=cv2.INTER_AREA)\n",
    "    # img_rs=cv2.bitwise_not(img_rs)\n",
    "    # print(img_rs.shape,i)\n",
    "\n",
    "        for i in range(N):\n",
    "            for j in range(M):\n",
    "                digit_square = img_rs[i*pixel:(i+1)*pixel, j*pixel:(j+1)*pixel]\n",
    "                x_i=digit_square.reshape(1, -1)\n",
    "                # print(x_i.shape,i,j)\n",
    "                y=numbers[i,j]\n",
    "                Xs.append(x_i)\n",
    "                Ys.append(y)"
   ]
  },
  {
   "cell_type": "code",
   "execution_count": 11,
   "metadata": {},
   "outputs": [
    {
     "name": "stdout",
     "output_type": "stream",
     "text": [
      "(45000, 3600) (45000, 1)\n"
     ]
    },
    {
     "data": {
      "text/plain": [
       "(45000, 3601)"
      ]
     },
     "execution_count": 11,
     "metadata": {},
     "output_type": "execute_result"
    }
   ],
   "source": [
    "# 白地のまま学習する\n",
    "\n",
    "# 画像を読み込む\n",
    "try:\n",
    "    train\n",
    "except:\n",
    "    train=1\n",
    "save=1\n",
    "pixel=60\n",
    "N1,M1=10,10\n",
    "N2,M2=50,50\n",
    "K1,K2=300,5\n",
    "\n",
    "data_name='numbers_line_3'\n",
    "load_data(data_name,N1,M1,100,pixel)\n",
    "data_name='numbers_line'\n",
    "load_data(data_name,N2,M2,5,pixel)\n",
    "data_name='numbers'   \n",
    "load_data(data_name,N2,M2,5,pixel)\n",
    "data_name='numbers_ang'\n",
    "load_data(data_name,N1,M1,100,pixel)\n",
    "Xs=pd.DataFrame(np.array(Xs).reshape(-1,pixel*pixel))\n",
    "Ys=pd.DataFrame(np.array(Ys).reshape(-1,1),columns=['label'])\n",
    "print(Xs.shape,Ys.shape)\n",
    "df=pd.concat([Ys,Xs],axis=1)\n",
    "# df=df.loc[df.iloc[:,0]!=0]\n",
    "df.shape\n"
   ]
  },
  {
   "cell_type": "code",
   "execution_count": 12,
   "metadata": {},
   "outputs": [],
   "source": [
    "X_org, y_org = df.iloc[:,1:], df.iloc[:,0]\n",
    "X_org = np.array(X_org / 255.0, dtype=\"double\")\n",
    "y_org = np.array(y_org, dtype=\"uint8\")\n",
    "X, X_test, y, y_test = model_selection.train_test_split(\n",
    "    X_org, y_org,test_size=0.2, shuffle=True,random_state=42\n",
    ")\n",
    "scaler = StandardScaler()\n",
    "scaler.fit(X)\n",
    "\n",
    "# データのスケーリング\n",
    "X = scaler.transform(X)\n",
    "X_test = scaler.transform(X_test)"
   ]
  },
  {
   "cell_type": "code",
   "execution_count": 13,
   "metadata": {},
   "outputs": [],
   "source": [
    "# load\n",
    "# scaler = pd.read_pickle('./pickle/Rand_numbers_line_3_scaler.pickle')\n",
    "clf=pd.read_pickle('./pickle/Rand_numbers_line_3_clf.pickle')\n",
    "clf2=pd.read_pickle('./pickle/rf_clf.pickle')\n",
    "clf3=pd.read_pickle('./pickle/Rand_numbers_ang_clf.pickle')\n",
    "clf_vote=VotingClassifier(estimators=[('rf_l3', clf), ('rf', clf2),(\"rf_ang\",clf3)], voting='hard')\n",
    "clf_vote.fit(X, y)"
   ]
  },
  {
   "cell_type": "code",
   "execution_count": null,
   "metadata": {},
   "outputs": [
    {
     "name": "stdout",
     "output_type": "stream",
     "text": [
      "logis_acc_train 100.0\n",
      "logis_acc_test 94.24444444444444\n"
     ]
    }
   ],
   "source": [
    "\n",
    "acc_train = 100.0 * clf_vote.score(X, y)\n",
    "print(\"logis_acc_train\", acc_train)\n",
    "\n",
    "# テストデータに対する識別精度の計算\n",
    "acc_test = 100.0 * clf_vote.score(X_test, y_test)\n",
    "print(\"logis_acc_test\", acc_test)"
   ]
  },
  {
   "cell_type": "code",
   "execution_count": null,
   "metadata": {},
   "outputs": [
    {
     "data": {
      "text/plain": [
       "array([0, 0, 5, ..., 0, 9, 5], dtype=uint8)"
      ]
     },
     "execution_count": 7,
     "metadata": {},
     "output_type": "execute_result"
    }
   ],
   "source": [
    "clf_vote.predict(X_test)"
   ]
  },
  {
   "cell_type": "code",
   "execution_count": null,
   "metadata": {},
   "outputs": [],
   "source": [
    "import pickle\n",
    "with open('./pickle/ensemble3_clf.pickle', mode='wb') as fp:\n",
    "    pickle.dump(clf_vote, fp)\n",
    "with open('./pickle/ensemble3_scaler.pickle', mode='wb') as fp:\n",
    "    pickle.dump(scaler, fp)"
   ]
  }
 ],
 "metadata": {
  "kernelspec": {
   "display_name": "advml",
   "language": "python",
   "name": "python3"
  },
  "language_info": {
   "codemirror_mode": {
    "name": "ipython",
    "version": 3
   },
   "file_extension": ".py",
   "mimetype": "text/x-python",
   "name": "python",
   "nbconvert_exporter": "python",
   "pygments_lexer": "ipython3",
   "version": "3.11.5"
  }
 },
 "nbformat": 4,
 "nbformat_minor": 2
}
