{
 "cells": [
  {
   "cell_type": "code",
   "execution_count": 2,
   "metadata": {},
   "outputs": [],
   "source": [
    "from itertools import product\n",
    "import pandas as pd\n",
    "import numpy as np\n",
    "import re\n",
    "from sudoku import solve\n",
    "import os\n",
    "import cv2"
   ]
  },
  {
   "cell_type": "code",
   "execution_count": 3,
   "metadata": {},
   "outputs": [
    {
     "name": "stdout",
     "output_type": "stream",
     "text": [
      "sample\n",
      "sudoku_026\n",
      "sudoku_027\n",
      "sudoku_028\n",
      "sudoku_029\n",
      "sudoku_030\n"
     ]
    },
    {
     "data": {
      "text/plain": [
       "'././data/level1/sample.jpg'"
      ]
     },
     "execution_count": 3,
     "metadata": {},
     "output_type": "execute_result"
    }
   ],
   "source": [
    "\n",
    "# ディレクトリ内のファイルを取得する\n",
    "dir_path = \"./data/level1/\"\n",
    "files = os.listdir(dir_path)\n",
    "# jpgファイルのみを取得する\n",
    "jpg_files = [os.path.splitext(f)[0] for f in files if f.endswith('.jpg')]\n",
    "\n",
    "# ファイル名を表示する\n",
    "for f in jpg_files:\n",
    "    print(f)\n",
    "# jpg_files\n",
    "# pixel=60\n",
    "file=\"sample\"\n",
    "f\"./{dir_path}{file}.jpg\"\n",
    "# problem=recog_l2.recognize(path=f\"./{dir_path}{file}.jpg\",arc_epsilon=5e-2)\n",
    "# img=recog_l2.recognize(path=f\"./{dir_path}{file}.jpg\",arc_epsilon=5e-2,ret_img=1,erase_line=0)\n",
    "# plt.imshow(img)\n",
    "# problem"
   ]
  },
  {
   "cell_type": "code",
   "execution_count": 4,
   "metadata": {},
   "outputs": [
    {
     "name": "stdout",
     "output_type": "stream",
     "text": [
      "処理時間: 2.485秒\n"
     ]
    },
    {
     "data": {
      "text/plain": [
       "array([[2, 3, 5, 7, 9, 1, 6, 4, 8],\n",
       "       [1, 6, 9, 4, 2, 8, 7, 5, 3],\n",
       "       [7, 4, 8, 6, 3, 5, 9, 2, 1],\n",
       "       [3, 9, 6, 2, 7, 4, 8, 1, 5],\n",
       "       [5, 2, 1, 3, 8, 9, 4, 6, 7],\n",
       "       [4, 8, 7, 1, 5, 6, 3, 9, 2],\n",
       "       [8, 5, 3, 9, 6, 2, 1, 7, 4],\n",
       "       [9, 7, 4, 5, 1, 3, 2, 8, 6],\n",
       "       [6, 1, 2, 8, 4, 7, 5, 3, 9]])"
      ]
     },
     "execution_count": 4,
     "metadata": {},
     "output_type": "execute_result"
    }
   ],
   "source": [
    "# how solve works\n",
    "image_path = f\"./{dir_path}{file}.jpg\"\n",
    "image = cv2.imread(image_path, cv2.IMREAD_COLOR)\n",
    "image = cv2.cvtColor(image, cv2.COLOR_BGR2RGB)\n",
    "solve(image)"
   ]
  },
  {
   "cell_type": "code",
   "execution_count": 30,
   "metadata": {},
   "outputs": [
    {
     "name": "stdout",
     "output_type": "stream",
     "text": [
      "elapsed_time:0.10819973945617675\n"
     ]
    }
   ],
   "source": [
    "import time\n",
    "start_time = time.time()\n",
    "target_file = './pickle/Rand_numbers_line_3_clf.pickle'\n",
    "target_file = './pickle/Rand_numbers_mix_l_clf.pickle'\n",
    "for i in range(10):\n",
    "    clf=pd.read_pickle(target_file)\n",
    "end_time = time.time()\n",
    "elapsed_time = end_time - start_time\n",
    "print(f\"elapsed_time:{elapsed_time/10}\")"
   ]
  },
  {
   "cell_type": "code",
   "execution_count": 25,
   "metadata": {},
   "outputs": [
    {
     "name": "stdout",
     "output_type": "stream",
     "text": [
      "elapsed_time:0.30683174133300783\n"
     ]
    }
   ],
   "source": [
    "import time\n",
    "start_time = time.time()\n",
    "for i in range(10):\n",
    "    clf=pd.read_pickle('./pickle/Rand_numbers_mix_l_clf.pickle')\n",
    "end_time = time.time()\n",
    "elapsed_time = end_time - start_time\n",
    "print(f\"elapsed_time:{elapsed_time/10}\")"
   ]
  },
  {
   "cell_type": "code",
   "execution_count": 23,
   "metadata": {},
   "outputs": [
    {
     "name": "stdout",
     "output_type": "stream",
     "text": [
      "elapsed_time:0.49004054069519043\n"
     ]
    }
   ],
   "source": [
    "import time\n",
    "import joblib\n",
    "start_time = time.time()\n",
    "for i in range(1):\n",
    "    clf=joblib.load('./pickle/Rand_numbers_mix_clf.joblib')\n",
    "end_time = time.time()\n",
    "elapsed_time = end_time - start_time\n",
    "print(f\"elapsed_time:{elapsed_time}\")"
   ]
  },
  {
   "cell_type": "code",
   "execution_count": 22,
   "metadata": {},
   "outputs": [],
   "source": [
    "import joblib\n",
    "with open('./pickle/Rand_numbers_mix_clf.joblib', mode='wb') as f:\n",
    "    joblib.dump(clf, f)\n"
   ]
  },
  {
   "cell_type": "code",
   "execution_count": 40,
   "metadata": {},
   "outputs": [
    {
     "name": "stdout",
     "output_type": "stream",
     "text": [
      "elapsed_time:0.13189964294433593\n"
     ]
    }
   ],
   "source": [
    "import time\n",
    "import pickle\n",
    "import joblib\n",
    "start_time = time.time()\n",
    "for i in range(10):\n",
    "    with open('./pickle/Rand_numbers_ang_clf.pickle', 'rb') as f:\n",
    "        clf = pickle.load(f)\n",
    "end_time = time.time()\n",
    "elapsed_time = end_time - start_time\n",
    "print(f\"elapsed_time:{elapsed_time/10}\")"
   ]
  }
 ],
 "metadata": {
  "kernelspec": {
   "display_name": "advml",
   "language": "python",
   "name": "python3"
  },
  "language_info": {
   "codemirror_mode": {
    "name": "ipython",
    "version": 3
   },
   "file_extension": ".py",
   "mimetype": "text/x-python",
   "name": "python",
   "nbconvert_exporter": "python",
   "pygments_lexer": "ipython3",
   "version": "3.11.5"
  }
 },
 "nbformat": 4,
 "nbformat_minor": 2
}
